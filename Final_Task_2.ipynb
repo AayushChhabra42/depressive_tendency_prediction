{
 "cells": [
  {
   "cell_type": "code",
   "execution_count": 1,
   "id": "b7594ade",
   "metadata": {},
   "outputs": [],
   "source": [
    "import matplotlib as plt\n",
    "import numpy as np\n",
    "import pandas as pd\n",
    "import seaborn as sns\n",
    "import sklearn\n",
    "import gensim\n",
    "import re\n",
    "import tensorflow as tf\n",
    "import xgboost as xgb"
   ]
  },
  {
   "cell_type": "markdown",
   "id": "e9e9fcef",
   "metadata": {},
   "source": [
    "# Importing Datasets #"
   ]
  },
  {
   "cell_type": "code",
   "execution_count": 2,
   "id": "db6cc154",
   "metadata": {},
   "outputs": [],
   "source": [
    "dataset=pd.read_csv(\"D:\\Research Task 2\\Depressive Tendencies Task Datasets - train.csv\")\n",
    "test_dataset=pd.read_csv(\"D:\\Research Task 2\\Depressive Tendencies Task Datasets - test.csv\")"
   ]
  },
  {
   "cell_type": "code",
   "execution_count": 3,
   "id": "91aa7984",
   "metadata": {},
   "outputs": [
    {
     "data": {
      "text/html": [
       "<div>\n",
       "<style scoped>\n",
       "    .dataframe tbody tr th:only-of-type {\n",
       "        vertical-align: middle;\n",
       "    }\n",
       "\n",
       "    .dataframe tbody tr th {\n",
       "        vertical-align: top;\n",
       "    }\n",
       "\n",
       "    .dataframe thead th {\n",
       "        text-align: right;\n",
       "    }\n",
       "</style>\n",
       "<table border=\"1\" class=\"dataframe\">\n",
       "  <thead>\n",
       "    <tr style=\"text-align: right;\">\n",
       "      <th></th>\n",
       "      <th>tweet_id</th>\n",
       "      <th>user_id</th>\n",
       "      <th>tweet_text</th>\n",
       "      <th>followers_count</th>\n",
       "      <th>following_count</th>\n",
       "      <th>tweet_count</th>\n",
       "      <th>listed_count</th>\n",
       "      <th>hashtags</th>\n",
       "      <th>mentions</th>\n",
       "      <th>user_description</th>\n",
       "      <th>retweet_count</th>\n",
       "      <th>reply_count</th>\n",
       "      <th>like_count</th>\n",
       "      <th>quote_count</th>\n",
       "      <th>created_at</th>\n",
       "      <th>label</th>\n",
       "    </tr>\n",
       "  </thead>\n",
       "  <tbody>\n",
       "    <tr>\n",
       "      <th>0</th>\n",
       "      <td>1.540000e+18</td>\n",
       "      <td>1.380000e+18</td>\n",
       "      <td>i hate my life https://t.co/iKqwlA23ft</td>\n",
       "      <td>605</td>\n",
       "      <td>474</td>\n",
       "      <td>6715</td>\n",
       "      <td>6</td>\n",
       "      <td>0</td>\n",
       "      <td>0</td>\n",
       "      <td>i believe in pixy and kingdom supremacy</td>\n",
       "      <td>33</td>\n",
       "      <td>7</td>\n",
       "      <td>123</td>\n",
       "      <td>10</td>\n",
       "      <td>2022-06-15 06:45:26+00:00</td>\n",
       "      <td>1</td>\n",
       "    </tr>\n",
       "    <tr>\n",
       "      <th>1</th>\n",
       "      <td>1.540000e+18</td>\n",
       "      <td>1.380000e+18</td>\n",
       "      <td>There are notable differences between us, but ...</td>\n",
       "      <td>5</td>\n",
       "      <td>1</td>\n",
       "      <td>23148</td>\n",
       "      <td>0</td>\n",
       "      <td>0</td>\n",
       "      <td>0</td>\n",
       "      <td>bot made by @GNCbinary ! I am programmed to re...</td>\n",
       "      <td>0</td>\n",
       "      <td>0</td>\n",
       "      <td>0</td>\n",
       "      <td>0</td>\n",
       "      <td>2022-06-19 03:15:47+00:00</td>\n",
       "      <td>0</td>\n",
       "    </tr>\n",
       "    <tr>\n",
       "      <th>2</th>\n",
       "      <td>1.540000e+18</td>\n",
       "      <td>8.050000e+17</td>\n",
       "      <td>I keep having this reoccurring bad dream. It a...</td>\n",
       "      <td>4324</td>\n",
       "      <td>4987</td>\n",
       "      <td>3039</td>\n",
       "      <td>30</td>\n",
       "      <td>0</td>\n",
       "      <td>0</td>\n",
       "      <td>author | rep. @MaximusLiterary |\\nomnist | Pan...</td>\n",
       "      <td>1</td>\n",
       "      <td>1</td>\n",
       "      <td>8</td>\n",
       "      <td>0</td>\n",
       "      <td>2022-06-17 14:38:49+00:00</td>\n",
       "      <td>1</td>\n",
       "    </tr>\n",
       "    <tr>\n",
       "      <th>3</th>\n",
       "      <td>1.540000e+18</td>\n",
       "      <td>1.380000e+18</td>\n",
       "      <td>I dont want to make yall think im seeking for ...</td>\n",
       "      <td>7</td>\n",
       "      <td>56</td>\n",
       "      <td>995</td>\n",
       "      <td>0</td>\n",
       "      <td>0</td>\n",
       "      <td>0</td>\n",
       "      <td>loving #StrayKids is undeniable \\n👁️👄👁️</td>\n",
       "      <td>0</td>\n",
       "      <td>1</td>\n",
       "      <td>0</td>\n",
       "      <td>0</td>\n",
       "      <td>2022-06-14 18:32:30+00:00</td>\n",
       "      <td>1</td>\n",
       "    </tr>\n",
       "    <tr>\n",
       "      <th>4</th>\n",
       "      <td>1.540000e+18</td>\n",
       "      <td>1.420000e+18</td>\n",
       "      <td>@Andyb56 @ashlea_robyn People like you dont de...</td>\n",
       "      <td>2918</td>\n",
       "      <td>4967</td>\n",
       "      <td>10043</td>\n",
       "      <td>3</td>\n",
       "      <td>0</td>\n",
       "      <td>1</td>\n",
       "      <td>I am a happy-go-lucky kind of man. Happy to ch...</td>\n",
       "      <td>0</td>\n",
       "      <td>0</td>\n",
       "      <td>3</td>\n",
       "      <td>0</td>\n",
       "      <td>2022-06-18 19:01:59+00:00</td>\n",
       "      <td>0</td>\n",
       "    </tr>\n",
       "  </tbody>\n",
       "</table>\n",
       "</div>"
      ],
      "text/plain": [
       "       tweet_id       user_id  \\\n",
       "0  1.540000e+18  1.380000e+18   \n",
       "1  1.540000e+18  1.380000e+18   \n",
       "2  1.540000e+18  8.050000e+17   \n",
       "3  1.540000e+18  1.380000e+18   \n",
       "4  1.540000e+18  1.420000e+18   \n",
       "\n",
       "                                          tweet_text  followers_count  \\\n",
       "0             i hate my life https://t.co/iKqwlA23ft              605   \n",
       "1  There are notable differences between us, but ...                5   \n",
       "2  I keep having this reoccurring bad dream. It a...             4324   \n",
       "3  I dont want to make yall think im seeking for ...                7   \n",
       "4  @Andyb56 @ashlea_robyn People like you dont de...             2918   \n",
       "\n",
       "   following_count  tweet_count  listed_count  hashtags  mentions  \\\n",
       "0              474         6715             6         0         0   \n",
       "1                1        23148             0         0         0   \n",
       "2             4987         3039            30         0         0   \n",
       "3               56          995             0         0         0   \n",
       "4             4967        10043             3         0         1   \n",
       "\n",
       "                                    user_description  retweet_count  \\\n",
       "0            i believe in pixy and kingdom supremacy             33   \n",
       "1  bot made by @GNCbinary ! I am programmed to re...              0   \n",
       "2  author | rep. @MaximusLiterary |\\nomnist | Pan...              1   \n",
       "3            loving #StrayKids is undeniable \\n👁️👄👁️              0   \n",
       "4  I am a happy-go-lucky kind of man. Happy to ch...              0   \n",
       "\n",
       "   reply_count  like_count  quote_count                 created_at  label  \n",
       "0            7         123           10  2022-06-15 06:45:26+00:00      1  \n",
       "1            0           0            0  2022-06-19 03:15:47+00:00      0  \n",
       "2            1           8            0  2022-06-17 14:38:49+00:00      1  \n",
       "3            1           0            0  2022-06-14 18:32:30+00:00      1  \n",
       "4            0           3            0  2022-06-18 19:01:59+00:00      0  "
      ]
     },
     "execution_count": 3,
     "metadata": {},
     "output_type": "execute_result"
    }
   ],
   "source": [
    "dataset.head()"
   ]
  },
  {
   "cell_type": "markdown",
   "id": "bb99592f",
   "metadata": {},
   "source": [
    "# Checking Correlation and other visualisations #"
   ]
  },
  {
   "cell_type": "code",
   "execution_count": 4,
   "id": "c6731fbe",
   "metadata": {},
   "outputs": [
    {
     "name": "stderr",
     "output_type": "stream",
     "text": [
      "C:\\Users\\Aayush\\AppData\\Local\\Temp\\ipykernel_39972\\1066660842.py:2: FutureWarning: The default value of numeric_only in DataFrame.corr is deprecated. In a future version, it will default to False. Select only valid columns or specify the value of numeric_only to silence this warning.\n",
      "  sns.heatmap(data=dataset.corr(),annot=True)\n"
     ]
    },
    {
     "data": {
      "text/plain": [
       "<Axes: >"
      ]
     },
     "execution_count": 4,
     "metadata": {},
     "output_type": "execute_result"
    },
    {
     "data": {
      "image/png": "[encoded data removed]",
      "text/plain": [
       "<Figure size 2000x1000 with 2 Axes>"
      ]
     },
     "metadata": {},
     "output_type": "display_data"
    }
   ],
   "source": [
    "plt.pyplot.figure(figsize=(20,10))\n",
    "sns.heatmap(data=dataset.corr(),annot=True)"
   ]
  },
  {
   "cell_type": "markdown",
   "id": "313274fa",
   "metadata": {},
   "source": [
    "hashtags and mentions have high correlational value with label.Tweet needs to be broken down and analysed"
   ]
  },
  {
   "cell_type": "code",
   "execution_count": 5,
   "id": "64ebca7c",
   "metadata": {},
   "outputs": [
    {
     "data": {
      "text/plain": [
       "<seaborn.axisgrid.FacetGrid at 0x23762f1ee80>"
      ]
     },
     "execution_count": 5,
     "metadata": {},
     "output_type": "execute_result"
    },
    {
     "data": {
      "image/png": "[encoded data removed]",
      "text/plain": [
       "<Figure size 500x500 with 1 Axes>"
      ]
     },
     "metadata": {},
     "output_type": "display_data"
    }
   ],
   "source": [
    "sns.catplot(x='label',data=dataset,kind=\"count\")"
   ]
  },
  {
   "cell_type": "code",
   "execution_count": 6,
   "id": "6e3b857b",
   "metadata": {
    "scrolled": true
   },
   "outputs": [
    {
     "data": {
      "text/plain": [
       "<seaborn.axisgrid.FacetGrid at 0x237687465e0>"
      ]
     },
     "execution_count": 6,
     "metadata": {},
     "output_type": "execute_result"
    },
    {
     "data": {
      "image/png": "[encoded data removed]",
      "text/plain": [
       "<Figure size 500x500 with 1 Axes>"
      ]
     },
     "metadata": {},
     "output_type": "display_data"
    }
   ],
   "source": [
    "sns.catplot(x='label',data=test_dataset,kind=\"count\")"
   ]
  },
  {
   "cell_type": "markdown",
   "id": "17fe7b45",
   "metadata": {},
   "source": [
    "# Sanitising Input Data #"
   ]
  },
  {
   "cell_type": "code",
   "execution_count": 7,
   "id": "2e7b9551",
   "metadata": {},
   "outputs": [
    {
     "name": "stderr",
     "output_type": "stream",
     "text": [
      "C:\\Users\\Aayush\\AppData\\Local\\Temp\\ipykernel_39972\\3151881749.py:4: FutureWarning: The default value of regex will change from True to False in a future version.\n",
      "  dataset['tweet_text'] = dataset['tweet_text'].str.replace(r\"http\\S+\", \"\")\n",
      "C:\\Users\\Aayush\\AppData\\Local\\Temp\\ipykernel_39972\\3151881749.py:5: FutureWarning: The default value of regex will change from True to False in a future version.\n",
      "  dataset['tweet_text'] = dataset['tweet_text'].str.replace(r\"[^A-Za-z0-9(),!?@\\'\\`\\\"\\_\\n]\", \" \")\n",
      "C:\\Users\\Aayush\\AppData\\Local\\Temp\\ipykernel_39972\\3151881749.py:7: FutureWarning: The default value of regex will change from True to False in a future version.\n",
      "  test_dataset['tweet_text'] = test_dataset['tweet_text'].str.replace(r\"http\\S+\", \"\")\n",
      "C:\\Users\\Aayush\\AppData\\Local\\Temp\\ipykernel_39972\\3151881749.py:8: FutureWarning: The default value of regex will change from True to False in a future version.\n",
      "  test_dataset['tweet_text'] = test_dataset['tweet_text'].str.replace(r\"[^A-Za-z0-9(),!?@\\'\\`\\\"\\_\\n]\", \" \")\n"
     ]
    }
   ],
   "source": [
    "tweets=[]\n",
    "test_tweets=[]\n",
    "#train data\n",
    "dataset['tweet_text'] = dataset['tweet_text'].str.replace(r\"http\\S+\", \"\")\n",
    "dataset['tweet_text'] = dataset['tweet_text'].str.replace(r\"[^A-Za-z0-9(),!?@\\'\\`\\\"\\_\\n]\", \" \")\n",
    "#test data\n",
    "test_dataset['tweet_text'] = test_dataset['tweet_text'].str.replace(r\"http\\S+\", \"\")\n",
    "test_dataset['tweet_text'] = test_dataset['tweet_text'].str.replace(r\"[^A-Za-z0-9(),!?@\\'\\`\\\"\\_\\n]\", \" \")"
   ]
  },
  {
   "cell_type": "code",
   "execution_count": 8,
   "id": "82a69bcc",
   "metadata": {},
   "outputs": [
    {
     "data": {
      "text/html": [
       "<div>\n",
       "<style scoped>\n",
       "    .dataframe tbody tr th:only-of-type {\n",
       "        vertical-align: middle;\n",
       "    }\n",
       "\n",
       "    .dataframe tbody tr th {\n",
       "        vertical-align: top;\n",
       "    }\n",
       "\n",
       "    .dataframe thead th {\n",
       "        text-align: right;\n",
       "    }\n",
       "</style>\n",
       "<table border=\"1\" class=\"dataframe\">\n",
       "  <thead>\n",
       "    <tr style=\"text-align: right;\">\n",
       "      <th></th>\n",
       "      <th>tweet_id</th>\n",
       "      <th>user_id</th>\n",
       "      <th>followers_count</th>\n",
       "      <th>following_count</th>\n",
       "      <th>tweet_count</th>\n",
       "      <th>listed_count</th>\n",
       "      <th>hashtags</th>\n",
       "      <th>mentions</th>\n",
       "      <th>user_description</th>\n",
       "      <th>retweet_count</th>\n",
       "      <th>reply_count</th>\n",
       "      <th>like_count</th>\n",
       "      <th>quote_count</th>\n",
       "      <th>created_at</th>\n",
       "      <th>label</th>\n",
       "      <th>tweet_text</th>\n",
       "    </tr>\n",
       "  </thead>\n",
       "  <tbody>\n",
       "    <tr>\n",
       "      <th>0</th>\n",
       "      <td>1.540000e+18</td>\n",
       "      <td>1.380000e+18</td>\n",
       "      <td>605</td>\n",
       "      <td>474</td>\n",
       "      <td>6715</td>\n",
       "      <td>6</td>\n",
       "      <td>0</td>\n",
       "      <td>0</td>\n",
       "      <td>i believe in pixy and kingdom supremacy</td>\n",
       "      <td>33</td>\n",
       "      <td>7</td>\n",
       "      <td>123</td>\n",
       "      <td>10</td>\n",
       "      <td>2022-06-15 06:45:26+00:00</td>\n",
       "      <td>1</td>\n",
       "      <td>[hate, my, life]</td>\n",
       "    </tr>\n",
       "    <tr>\n",
       "      <th>1</th>\n",
       "      <td>1.540000e+18</td>\n",
       "      <td>1.380000e+18</td>\n",
       "      <td>5</td>\n",
       "      <td>1</td>\n",
       "      <td>23148</td>\n",
       "      <td>0</td>\n",
       "      <td>0</td>\n",
       "      <td>0</td>\n",
       "      <td>bot made by @GNCbinary ! I am programmed to re...</td>\n",
       "      <td>0</td>\n",
       "      <td>0</td>\n",
       "      <td>0</td>\n",
       "      <td>0</td>\n",
       "      <td>2022-06-19 03:15:47+00:00</td>\n",
       "      <td>0</td>\n",
       "      <td>[there, are, notable, differences, between, us...</td>\n",
       "    </tr>\n",
       "    <tr>\n",
       "      <th>2</th>\n",
       "      <td>1.540000e+18</td>\n",
       "      <td>8.050000e+17</td>\n",
       "      <td>4324</td>\n",
       "      <td>4987</td>\n",
       "      <td>3039</td>\n",
       "      <td>30</td>\n",
       "      <td>0</td>\n",
       "      <td>0</td>\n",
       "      <td>author | rep. @MaximusLiterary |\\nomnist | Pan...</td>\n",
       "      <td>1</td>\n",
       "      <td>1</td>\n",
       "      <td>8</td>\n",
       "      <td>0</td>\n",
       "      <td>2022-06-17 14:38:49+00:00</td>\n",
       "      <td>1</td>\n",
       "      <td>[keep, having, this, reoccurring, bad, dream, ...</td>\n",
       "    </tr>\n",
       "    <tr>\n",
       "      <th>3</th>\n",
       "      <td>1.540000e+18</td>\n",
       "      <td>1.380000e+18</td>\n",
       "      <td>7</td>\n",
       "      <td>56</td>\n",
       "      <td>995</td>\n",
       "      <td>0</td>\n",
       "      <td>0</td>\n",
       "      <td>0</td>\n",
       "      <td>loving #StrayKids is undeniable \\n👁️👄👁️</td>\n",
       "      <td>0</td>\n",
       "      <td>1</td>\n",
       "      <td>0</td>\n",
       "      <td>0</td>\n",
       "      <td>2022-06-14 18:32:30+00:00</td>\n",
       "      <td>1</td>\n",
       "      <td>[dont, want, to, make, yall, think, im, seekin...</td>\n",
       "    </tr>\n",
       "    <tr>\n",
       "      <th>4</th>\n",
       "      <td>1.540000e+18</td>\n",
       "      <td>1.420000e+18</td>\n",
       "      <td>2918</td>\n",
       "      <td>4967</td>\n",
       "      <td>10043</td>\n",
       "      <td>3</td>\n",
       "      <td>0</td>\n",
       "      <td>1</td>\n",
       "      <td>I am a happy-go-lucky kind of man. Happy to ch...</td>\n",
       "      <td>0</td>\n",
       "      <td>0</td>\n",
       "      <td>3</td>\n",
       "      <td>0</td>\n",
       "      <td>2022-06-18 19:01:59+00:00</td>\n",
       "      <td>0</td>\n",
       "      <td>[andyb, ashlea_robyn, people, like, you, dont,...</td>\n",
       "    </tr>\n",
       "  </tbody>\n",
       "</table>\n",
       "</div>"
      ],
      "text/plain": [
       "       tweet_id       user_id  followers_count  following_count  tweet_count  \\\n",
       "0  1.540000e+18  1.380000e+18              605              474         6715   \n",
       "1  1.540000e+18  1.380000e+18                5                1        23148   \n",
       "2  1.540000e+18  8.050000e+17             4324             4987         3039   \n",
       "3  1.540000e+18  1.380000e+18                7               56          995   \n",
       "4  1.540000e+18  1.420000e+18             2918             4967        10043   \n",
       "\n",
       "   listed_count  hashtags  mentions  \\\n",
       "0             6         0         0   \n",
       "1             0         0         0   \n",
       "2            30         0         0   \n",
       "3             0         0         0   \n",
       "4             3         0         1   \n",
       "\n",
       "                                    user_description  retweet_count  \\\n",
       "0            i believe in pixy and kingdom supremacy             33   \n",
       "1  bot made by @GNCbinary ! I am programmed to re...              0   \n",
       "2  author | rep. @MaximusLiterary |\\nomnist | Pan...              1   \n",
       "3            loving #StrayKids is undeniable \\n👁️👄👁️              0   \n",
       "4  I am a happy-go-lucky kind of man. Happy to ch...              0   \n",
       "\n",
       "   reply_count  like_count  quote_count                 created_at  label  \\\n",
       "0            7         123           10  2022-06-15 06:45:26+00:00      1   \n",
       "1            0           0            0  2022-06-19 03:15:47+00:00      0   \n",
       "2            1           8            0  2022-06-17 14:38:49+00:00      1   \n",
       "3            1           0            0  2022-06-14 18:32:30+00:00      1   \n",
       "4            0           3            0  2022-06-18 19:01:59+00:00      0   \n",
       "\n",
       "                                          tweet_text  \n",
       "0                                   [hate, my, life]  \n",
       "1  [there, are, notable, differences, between, us...  \n",
       "2  [keep, having, this, reoccurring, bad, dream, ...  \n",
       "3  [dont, want, to, make, yall, think, im, seekin...  \n",
       "4  [andyb, ashlea_robyn, people, like, you, dont,...  "
      ]
     },
     "execution_count": 8,
     "metadata": {},
     "output_type": "execute_result"
    }
   ],
   "source": [
    "#Creating lists from sanitised data using the gensim preprocessor\n",
    "#for training dataset\n",
    "tweet_text_tokens=dataset.tweet_text.apply(gensim.utils.simple_preprocess)\n",
    "dataset=dataset.drop('tweet_text',axis=1)\n",
    "dataset=pd.concat([dataset,tweet_text_tokens],axis=1)\n",
    "#for test dataset\n",
    "test_tweet_text_tokens=test_dataset.tweet_text.apply(gensim.utils.simple_preprocess)\n",
    "test_dataset=test_dataset.drop('tweet_text',axis=1)\n",
    "test_dataset=pd.concat([test_dataset,test_tweet_text_tokens],axis=1)\n",
    "dataset.head()"
   ]
  },
  {
   "cell_type": "markdown",
   "id": "b919d7ab",
   "metadata": {},
   "source": [
    "# Using Word2Vec to generate features from tweet Texts #"
   ]
  },
  {
   "cell_type": "code",
   "execution_count": 9,
   "id": "574670d9",
   "metadata": {},
   "outputs": [],
   "source": [
    "#taking all tokens of text to build vocabulary\n",
    "total_tokens=pd.concat([dataset['tweet_text'],test_dataset['tweet_text']])"
   ]
  },
  {
   "cell_type": "code",
   "execution_count": 10,
   "id": "c5edab32",
   "metadata": {},
   "outputs": [],
   "source": [
    "vector_size_wv=10"
   ]
  },
  {
   "cell_type": "code",
   "execution_count": 11,
   "id": "1e4cd666",
   "metadata": {},
   "outputs": [
    {
     "data": {
      "text/plain": [
       "(329617, 459085)"
      ]
     },
     "execution_count": 11,
     "metadata": {},
     "output_type": "execute_result"
    }
   ],
   "source": [
    "model = gensim.models.Word2Vec(vector_size=vector_size_wv,window=5,min_count=2,workers=8,seed=0)\n",
    "model.build_vocab(total_tokens, progress_per=1000)\n",
    "model.train(total_tokens, total_examples=model.corpus_count, epochs=model.epochs)"
   ]
  },
  {
   "cell_type": "code",
   "execution_count": 12,
   "id": "35ce13c4",
   "metadata": {},
   "outputs": [],
   "source": [
    "#model.save(\"./word2vec-tweet_text-best.model\")"
   ]
  },
  {
   "cell_type": "code",
   "execution_count": 13,
   "id": "34c0485f",
   "metadata": {},
   "outputs": [
    {
     "data": {
      "text/plain": [
       "[('give', 0.9994118213653564),\n",
       " ('lonely', 0.999390184879303),\n",
       " ('shit', 0.9992502331733704),\n",
       " ('some', 0.9991630911827087),\n",
       " ('up', 0.9989628791809082),\n",
       " ('man', 0.9989528656005859),\n",
       " ('these', 0.9989114999771118),\n",
       " ('they', 0.9987803101539612),\n",
       " ('does', 0.9987432360649109),\n",
       " ('it', 0.9985808730125427)]"
      ]
     },
     "execution_count": 13,
     "metadata": {},
     "output_type": "execute_result"
    }
   ],
   "source": [
    "model.wv.most_similar(\"hate\")"
   ]
  },
  {
   "cell_type": "code",
   "execution_count": 14,
   "id": "50e92e58",
   "metadata": {},
   "outputs": [],
   "source": [
    "vocab=set(model.wv.index_to_key)"
   ]
  },
  {
   "cell_type": "markdown",
   "id": "415c9ca5",
   "metadata": {},
   "source": [
    "# Processing dataset using word2vec #"
   ]
  },
  {
   "cell_type": "code",
   "execution_count": 15,
   "id": "7fcacac7",
   "metadata": {},
   "outputs": [],
   "source": [
    "#making sentence array for train data\n",
    "sen_array=[]\n",
    "for ls in dataset['tweet_text']:\n",
    "    sentence=[]\n",
    "    for i in ls:\n",
    "        if i in vocab:\n",
    "            sentence.append(model.wv[i])\n",
    "    sentence=np.array(sentence)\n",
    "    sen_array.append(sentence)\n",
    "#making sentence array for test data\n",
    "sen_array_test=[]\n",
    "for ls in test_dataset['tweet_text']:\n",
    "    sentence=[]\n",
    "    for i in ls:\n",
    "        if i in vocab:\n",
    "            sentence.append(model.wv[i])\n",
    "    sentence=np.array(sentence)\n",
    "    sen_array_test.append(sentence)"
   ]
  },
  {
   "cell_type": "code",
   "execution_count": 16,
   "id": "a6395546",
   "metadata": {},
   "outputs": [],
   "source": [
    "#making sentence average vectors for train data\n",
    "text_vect_avg = []\n",
    "for v in sen_array:\n",
    "    if v.size:\n",
    "        text_vect_avg.append(v.mean(axis=0))\n",
    "    else:\n",
    "        text_vect_avg.append(np.zeros(vector_size_wv, dtype=float))# the same vector size must be used here as for model training\n",
    "#making sentence average vectors for test data\n",
    "text_vect_avg_test = []\n",
    "for v in sen_array_test:\n",
    "    if v.size:\n",
    "        text_vect_avg_test.append(v.mean(axis=0))\n",
    "    else:\n",
    "        text_vect_avg_test.append(np.zeros(vector_size_wv, dtype=float))"
   ]
  },
  {
   "cell_type": "code",
   "execution_count": 17,
   "id": "437c9295",
   "metadata": {},
   "outputs": [
    {
     "data": {
      "text/html": [
       "<div>\n",
       "<style scoped>\n",
       "    .dataframe tbody tr th:only-of-type {\n",
       "        vertical-align: middle;\n",
       "    }\n",
       "\n",
       "    .dataframe tbody tr th {\n",
       "        vertical-align: top;\n",
       "    }\n",
       "\n",
       "    .dataframe thead th {\n",
       "        text-align: right;\n",
       "    }\n",
       "</style>\n",
       "<table border=\"1\" class=\"dataframe\">\n",
       "  <thead>\n",
       "    <tr style=\"text-align: right;\">\n",
       "      <th></th>\n",
       "      <th>tweet_id</th>\n",
       "      <th>user_id</th>\n",
       "      <th>followers_count</th>\n",
       "      <th>following_count</th>\n",
       "      <th>tweet_count</th>\n",
       "      <th>listed_count</th>\n",
       "      <th>hashtags</th>\n",
       "      <th>mentions</th>\n",
       "      <th>user_description</th>\n",
       "      <th>retweet_count</th>\n",
       "      <th>reply_count</th>\n",
       "      <th>like_count</th>\n",
       "      <th>quote_count</th>\n",
       "      <th>created_at</th>\n",
       "      <th>label</th>\n",
       "      <th>tweet_text</th>\n",
       "      <th>sentence_average</th>\n",
       "    </tr>\n",
       "  </thead>\n",
       "  <tbody>\n",
       "    <tr>\n",
       "      <th>0</th>\n",
       "      <td>1.540000e+18</td>\n",
       "      <td>1.380000e+18</td>\n",
       "      <td>605</td>\n",
       "      <td>474</td>\n",
       "      <td>6715</td>\n",
       "      <td>6</td>\n",
       "      <td>0</td>\n",
       "      <td>0</td>\n",
       "      <td>i believe in pixy and kingdom supremacy</td>\n",
       "      <td>33</td>\n",
       "      <td>7</td>\n",
       "      <td>123</td>\n",
       "      <td>10</td>\n",
       "      <td>2022-06-15 06:45:26+00:00</td>\n",
       "      <td>1</td>\n",
       "      <td>[hate, my, life]</td>\n",
       "      <td>[-0.0991388, 1.4854579, 0.43941435, -1.4845743...</td>\n",
       "    </tr>\n",
       "    <tr>\n",
       "      <th>1</th>\n",
       "      <td>1.540000e+18</td>\n",
       "      <td>1.380000e+18</td>\n",
       "      <td>5</td>\n",
       "      <td>1</td>\n",
       "      <td>23148</td>\n",
       "      <td>0</td>\n",
       "      <td>0</td>\n",
       "      <td>0</td>\n",
       "      <td>bot made by @GNCbinary ! I am programmed to re...</td>\n",
       "      <td>0</td>\n",
       "      <td>0</td>\n",
       "      <td>0</td>\n",
       "      <td>0</td>\n",
       "      <td>2022-06-19 03:15:47+00:00</td>\n",
       "      <td>0</td>\n",
       "      <td>[there, are, notable, differences, between, us...</td>\n",
       "      <td>[-0.0050597675, 1.5021739, 0.5700926, -1.27485...</td>\n",
       "    </tr>\n",
       "    <tr>\n",
       "      <th>2</th>\n",
       "      <td>1.540000e+18</td>\n",
       "      <td>8.050000e+17</td>\n",
       "      <td>4324</td>\n",
       "      <td>4987</td>\n",
       "      <td>3039</td>\n",
       "      <td>30</td>\n",
       "      <td>0</td>\n",
       "      <td>0</td>\n",
       "      <td>author | rep. @MaximusLiterary |\\nomnist | Pan...</td>\n",
       "      <td>1</td>\n",
       "      <td>1</td>\n",
       "      <td>8</td>\n",
       "      <td>0</td>\n",
       "      <td>2022-06-17 14:38:49+00:00</td>\n",
       "      <td>1</td>\n",
       "      <td>[keep, having, this, reoccurring, bad, dream, ...</td>\n",
       "      <td>[0.016137423, 1.4062575, 0.5703225, -1.2856216...</td>\n",
       "    </tr>\n",
       "    <tr>\n",
       "      <th>3</th>\n",
       "      <td>1.540000e+18</td>\n",
       "      <td>1.380000e+18</td>\n",
       "      <td>7</td>\n",
       "      <td>56</td>\n",
       "      <td>995</td>\n",
       "      <td>0</td>\n",
       "      <td>0</td>\n",
       "      <td>0</td>\n",
       "      <td>loving #StrayKids is undeniable \\n👁️👄👁️</td>\n",
       "      <td>0</td>\n",
       "      <td>1</td>\n",
       "      <td>0</td>\n",
       "      <td>0</td>\n",
       "      <td>2022-06-14 18:32:30+00:00</td>\n",
       "      <td>1</td>\n",
       "      <td>[dont, want, to, make, yall, think, im, seekin...</td>\n",
       "      <td>[0.039471474, 1.4079696, 0.5665094, -1.2531829...</td>\n",
       "    </tr>\n",
       "    <tr>\n",
       "      <th>4</th>\n",
       "      <td>1.540000e+18</td>\n",
       "      <td>1.420000e+18</td>\n",
       "      <td>2918</td>\n",
       "      <td>4967</td>\n",
       "      <td>10043</td>\n",
       "      <td>3</td>\n",
       "      <td>0</td>\n",
       "      <td>1</td>\n",
       "      <td>I am a happy-go-lucky kind of man. Happy to ch...</td>\n",
       "      <td>0</td>\n",
       "      <td>0</td>\n",
       "      <td>3</td>\n",
       "      <td>0</td>\n",
       "      <td>2022-06-18 19:01:59+00:00</td>\n",
       "      <td>0</td>\n",
       "      <td>[andyb, ashlea_robyn, people, like, you, dont,...</td>\n",
       "      <td>[-0.0047149765, 1.2920852, 0.46446338, -1.1113...</td>\n",
       "    </tr>\n",
       "  </tbody>\n",
       "</table>\n",
       "</div>"
      ],
      "text/plain": [
       "       tweet_id       user_id  followers_count  following_count  tweet_count  \\\n",
       "0  1.540000e+18  1.380000e+18              605              474         6715   \n",
       "1  1.540000e+18  1.380000e+18                5                1        23148   \n",
       "2  1.540000e+18  8.050000e+17             4324             4987         3039   \n",
       "3  1.540000e+18  1.380000e+18                7               56          995   \n",
       "4  1.540000e+18  1.420000e+18             2918             4967        10043   \n",
       "\n",
       "   listed_count  hashtags  mentions  \\\n",
       "0             6         0         0   \n",
       "1             0         0         0   \n",
       "2            30         0         0   \n",
       "3             0         0         0   \n",
       "4             3         0         1   \n",
       "\n",
       "                                    user_description  retweet_count  \\\n",
       "0            i believe in pixy and kingdom supremacy             33   \n",
       "1  bot made by @GNCbinary ! I am programmed to re...              0   \n",
       "2  author | rep. @MaximusLiterary |\\nomnist | Pan...              1   \n",
       "3            loving #StrayKids is undeniable \\n👁️👄👁️              0   \n",
       "4  I am a happy-go-lucky kind of man. Happy to ch...              0   \n",
       "\n",
       "   reply_count  like_count  quote_count                 created_at  label  \\\n",
       "0            7         123           10  2022-06-15 06:45:26+00:00      1   \n",
       "1            0           0            0  2022-06-19 03:15:47+00:00      0   \n",
       "2            1           8            0  2022-06-17 14:38:49+00:00      1   \n",
       "3            1           0            0  2022-06-14 18:32:30+00:00      1   \n",
       "4            0           3            0  2022-06-18 19:01:59+00:00      0   \n",
       "\n",
       "                                          tweet_text  \\\n",
       "0                                   [hate, my, life]   \n",
       "1  [there, are, notable, differences, between, us...   \n",
       "2  [keep, having, this, reoccurring, bad, dream, ...   \n",
       "3  [dont, want, to, make, yall, think, im, seekin...   \n",
       "4  [andyb, ashlea_robyn, people, like, you, dont,...   \n",
       "\n",
       "                                    sentence_average  \n",
       "0  [-0.0991388, 1.4854579, 0.43941435, -1.4845743...  \n",
       "1  [-0.0050597675, 1.5021739, 0.5700926, -1.27485...  \n",
       "2  [0.016137423, 1.4062575, 0.5703225, -1.2856216...  \n",
       "3  [0.039471474, 1.4079696, 0.5665094, -1.2531829...  \n",
       "4  [-0.0047149765, 1.2920852, 0.46446338, -1.1113...  "
      ]
     },
     "execution_count": 17,
     "metadata": {},
     "output_type": "execute_result"
    }
   ],
   "source": [
    "dataset[\"sentence_average\"]=text_vect_avg\n",
    "test_dataset[\"sentence_average\"]=text_vect_avg_test\n",
    "dataset.head()"
   ]
  },
  {
   "cell_type": "code",
   "execution_count": 18,
   "id": "3c86a513",
   "metadata": {},
   "outputs": [],
   "source": [
    "col_names=dataset.columns\n",
    "pos_features=[]\n",
    "for i in col_names:\n",
    "    if i in [\"hashtags\",\"mentions\"]:\n",
    "        pos_features.append(i)\n",
    "X=dataset[pos_features]\n",
    "y=dataset[\"label\"]\n",
    "test_X=test_dataset[pos_features]\n",
    "test_y=test_dataset[\"label\"]"
   ]
  },
  {
   "cell_type": "code",
   "execution_count": 19,
   "id": "a21dde76",
   "metadata": {},
   "outputs": [
    {
     "data": {
      "text/html": [
       "<div>\n",
       "<style scoped>\n",
       "    .dataframe tbody tr th:only-of-type {\n",
       "        vertical-align: middle;\n",
       "    }\n",
       "\n",
       "    .dataframe tbody tr th {\n",
       "        vertical-align: top;\n",
       "    }\n",
       "\n",
       "    .dataframe thead th {\n",
       "        text-align: right;\n",
       "    }\n",
       "</style>\n",
       "<table border=\"1\" class=\"dataframe\">\n",
       "  <thead>\n",
       "    <tr style=\"text-align: right;\">\n",
       "      <th></th>\n",
       "      <th>Element_1</th>\n",
       "      <th>Element_2</th>\n",
       "      <th>Element_3</th>\n",
       "      <th>Element_4</th>\n",
       "      <th>Element_5</th>\n",
       "      <th>Element_6</th>\n",
       "      <th>Element_7</th>\n",
       "      <th>Element_8</th>\n",
       "      <th>Element_9</th>\n",
       "      <th>Element_10</th>\n",
       "    </tr>\n",
       "  </thead>\n",
       "  <tbody>\n",
       "    <tr>\n",
       "      <th>0</th>\n",
       "      <td>-0.099139</td>\n",
       "      <td>1.485458</td>\n",
       "      <td>0.439414</td>\n",
       "      <td>-1.484574</td>\n",
       "      <td>1.255483</td>\n",
       "      <td>2.194425</td>\n",
       "      <td>-1.892757</td>\n",
       "      <td>-0.984596</td>\n",
       "      <td>0.414807</td>\n",
       "      <td>2.324082</td>\n",
       "    </tr>\n",
       "    <tr>\n",
       "      <th>1</th>\n",
       "      <td>-0.005060</td>\n",
       "      <td>1.502174</td>\n",
       "      <td>0.570093</td>\n",
       "      <td>-1.274855</td>\n",
       "      <td>1.192015</td>\n",
       "      <td>1.797653</td>\n",
       "      <td>-1.705449</td>\n",
       "      <td>-0.927338</td>\n",
       "      <td>0.296264</td>\n",
       "      <td>2.011174</td>\n",
       "    </tr>\n",
       "    <tr>\n",
       "      <th>2</th>\n",
       "      <td>0.016137</td>\n",
       "      <td>1.406258</td>\n",
       "      <td>0.570323</td>\n",
       "      <td>-1.285622</td>\n",
       "      <td>1.142350</td>\n",
       "      <td>1.768252</td>\n",
       "      <td>-1.623952</td>\n",
       "      <td>-0.906139</td>\n",
       "      <td>0.270449</td>\n",
       "      <td>1.878998</td>\n",
       "    </tr>\n",
       "    <tr>\n",
       "      <th>3</th>\n",
       "      <td>0.039471</td>\n",
       "      <td>1.407970</td>\n",
       "      <td>0.566509</td>\n",
       "      <td>-1.253183</td>\n",
       "      <td>1.085094</td>\n",
       "      <td>1.720394</td>\n",
       "      <td>-1.623515</td>\n",
       "      <td>-0.912180</td>\n",
       "      <td>0.270587</td>\n",
       "      <td>1.904948</td>\n",
       "    </tr>\n",
       "    <tr>\n",
       "      <th>4</th>\n",
       "      <td>-0.004715</td>\n",
       "      <td>1.292085</td>\n",
       "      <td>0.464463</td>\n",
       "      <td>-1.111302</td>\n",
       "      <td>1.009291</td>\n",
       "      <td>1.617175</td>\n",
       "      <td>-1.464442</td>\n",
       "      <td>-0.788194</td>\n",
       "      <td>0.241310</td>\n",
       "      <td>1.790721</td>\n",
       "    </tr>\n",
       "  </tbody>\n",
       "</table>\n",
       "</div>"
      ],
      "text/plain": [
       "   Element_1  Element_2  Element_3  Element_4  Element_5  Element_6  \\\n",
       "0  -0.099139   1.485458   0.439414  -1.484574   1.255483   2.194425   \n",
       "1  -0.005060   1.502174   0.570093  -1.274855   1.192015   1.797653   \n",
       "2   0.016137   1.406258   0.570323  -1.285622   1.142350   1.768252   \n",
       "3   0.039471   1.407970   0.566509  -1.253183   1.085094   1.720394   \n",
       "4  -0.004715   1.292085   0.464463  -1.111302   1.009291   1.617175   \n",
       "\n",
       "   Element_7  Element_8  Element_9  Element_10  \n",
       "0  -1.892757  -0.984596   0.414807    2.324082  \n",
       "1  -1.705449  -0.927338   0.296264    2.011174  \n",
       "2  -1.623952  -0.906139   0.270449    1.878998  \n",
       "3  -1.623515  -0.912180   0.270587    1.904948  \n",
       "4  -1.464442  -0.788194   0.241310    1.790721  "
      ]
     },
     "execution_count": 19,
     "metadata": {},
     "output_type": "execute_result"
    }
   ],
   "source": [
    "#converting the sentence average array to a pd dataframe so each value of array can be a feature\n",
    "sentence_average_df=pd.DataFrame(text_vect_avg)\n",
    "sentence_average_df.columns = ['Element_' + str(i+1) for i in range(0, sentence_average_df.shape[1])]\n",
    "sentence_average_df_test=pd.DataFrame(text_vect_avg_test)\n",
    "sentence_average_df_test.columns = ['Element_' + str(i+1) for i in range(0, sentence_average_df_test.shape[1])]\n",
    "sentence_average_df.head()"
   ]
  },
  {
   "cell_type": "code",
   "execution_count": 20,
   "id": "c7e9853d",
   "metadata": {},
   "outputs": [
    {
     "data": {
      "text/html": [
       "<div>\n",
       "<style scoped>\n",
       "    .dataframe tbody tr th:only-of-type {\n",
       "        vertical-align: middle;\n",
       "    }\n",
       "\n",
       "    .dataframe tbody tr th {\n",
       "        vertical-align: top;\n",
       "    }\n",
       "\n",
       "    .dataframe thead th {\n",
       "        text-align: right;\n",
       "    }\n",
       "</style>\n",
       "<table border=\"1\" class=\"dataframe\">\n",
       "  <thead>\n",
       "    <tr style=\"text-align: right;\">\n",
       "      <th></th>\n",
       "      <th>hashtags</th>\n",
       "      <th>mentions</th>\n",
       "      <th>Element_1</th>\n",
       "      <th>Element_2</th>\n",
       "      <th>Element_3</th>\n",
       "      <th>Element_4</th>\n",
       "      <th>Element_5</th>\n",
       "      <th>Element_6</th>\n",
       "      <th>Element_7</th>\n",
       "      <th>Element_8</th>\n",
       "      <th>Element_9</th>\n",
       "      <th>Element_10</th>\n",
       "    </tr>\n",
       "  </thead>\n",
       "  <tbody>\n",
       "    <tr>\n",
       "      <th>0</th>\n",
       "      <td>0</td>\n",
       "      <td>0</td>\n",
       "      <td>0.025620</td>\n",
       "      <td>1.189094</td>\n",
       "      <td>0.496029</td>\n",
       "      <td>-1.082129</td>\n",
       "      <td>0.934825</td>\n",
       "      <td>1.512865</td>\n",
       "      <td>-1.336875</td>\n",
       "      <td>-0.751988</td>\n",
       "      <td>0.296364</td>\n",
       "      <td>1.649402</td>\n",
       "    </tr>\n",
       "    <tr>\n",
       "      <th>1</th>\n",
       "      <td>0</td>\n",
       "      <td>1</td>\n",
       "      <td>-0.001291</td>\n",
       "      <td>0.820084</td>\n",
       "      <td>0.353881</td>\n",
       "      <td>-0.721835</td>\n",
       "      <td>0.656769</td>\n",
       "      <td>1.023141</td>\n",
       "      <td>-0.838480</td>\n",
       "      <td>-0.523909</td>\n",
       "      <td>0.229465</td>\n",
       "      <td>1.119620</td>\n",
       "    </tr>\n",
       "    <tr>\n",
       "      <th>2</th>\n",
       "      <td>0</td>\n",
       "      <td>0</td>\n",
       "      <td>0.184132</td>\n",
       "      <td>1.329392</td>\n",
       "      <td>0.527059</td>\n",
       "      <td>-1.205433</td>\n",
       "      <td>0.947222</td>\n",
       "      <td>1.760126</td>\n",
       "      <td>-1.671482</td>\n",
       "      <td>-0.830443</td>\n",
       "      <td>0.178524</td>\n",
       "      <td>1.974254</td>\n",
       "    </tr>\n",
       "    <tr>\n",
       "      <th>3</th>\n",
       "      <td>1</td>\n",
       "      <td>0</td>\n",
       "      <td>-0.003415</td>\n",
       "      <td>1.282805</td>\n",
       "      <td>0.463948</td>\n",
       "      <td>-1.171666</td>\n",
       "      <td>1.013751</td>\n",
       "      <td>1.641715</td>\n",
       "      <td>-1.403800</td>\n",
       "      <td>-0.776243</td>\n",
       "      <td>0.276790</td>\n",
       "      <td>1.804312</td>\n",
       "    </tr>\n",
       "    <tr>\n",
       "      <th>4</th>\n",
       "      <td>0</td>\n",
       "      <td>0</td>\n",
       "      <td>0.015027</td>\n",
       "      <td>1.414733</td>\n",
       "      <td>0.590492</td>\n",
       "      <td>-1.245141</td>\n",
       "      <td>1.118711</td>\n",
       "      <td>1.793338</td>\n",
       "      <td>-1.812237</td>\n",
       "      <td>-0.983445</td>\n",
       "      <td>0.285739</td>\n",
       "      <td>1.806537</td>\n",
       "    </tr>\n",
       "  </tbody>\n",
       "</table>\n",
       "</div>"
      ],
      "text/plain": [
       "   hashtags  mentions  Element_1  Element_2  Element_3  Element_4  Element_5  \\\n",
       "0         0         0   0.025620   1.189094   0.496029  -1.082129   0.934825   \n",
       "1         0         1  -0.001291   0.820084   0.353881  -0.721835   0.656769   \n",
       "2         0         0   0.184132   1.329392   0.527059  -1.205433   0.947222   \n",
       "3         1         0  -0.003415   1.282805   0.463948  -1.171666   1.013751   \n",
       "4         0         0   0.015027   1.414733   0.590492  -1.245141   1.118711   \n",
       "\n",
       "   Element_6  Element_7  Element_8  Element_9  Element_10  \n",
       "0   1.512865  -1.336875  -0.751988   0.296364    1.649402  \n",
       "1   1.023141  -0.838480  -0.523909   0.229465    1.119620  \n",
       "2   1.760126  -1.671482  -0.830443   0.178524    1.974254  \n",
       "3   1.641715  -1.403800  -0.776243   0.276790    1.804312  \n",
       "4   1.793338  -1.812237  -0.983445   0.285739    1.806537  "
      ]
     },
     "execution_count": 20,
     "metadata": {},
     "output_type": "execute_result"
    }
   ],
   "source": [
    "#combining the dataset with sentence average\n",
    "X=pd.concat([X,sentence_average_df],axis=1)\n",
    "test_X=pd.concat([test_X,sentence_average_df_test],axis=1)\n",
    "test_X.head()"
   ]
  },
  {
   "cell_type": "markdown",
   "id": "ee766a72",
   "metadata": {},
   "source": [
    "# Using Logistic Regression to predict target variables #"
   ]
  },
  {
   "cell_type": "code",
   "execution_count": 27,
   "id": "fbb7e6a5",
   "metadata": {
    "scrolled": true
   },
   "outputs": [],
   "source": [
    "from sklearn.linear_model import LogisticRegression\n",
    "lr=LogisticRegression(random_state = 0,max_iter=1000)\n",
    "lr.fit(X,y)\n",
    "y_pred_lr=lr.predict(test_X)"
   ]
  },
  {
   "cell_type": "markdown",
   "id": "cfcecc4c",
   "metadata": {},
   "source": [
    "### Accuracy Metrics ###"
   ]
  },
  {
   "cell_type": "code",
   "execution_count": 29,
   "id": "03541371",
   "metadata": {
    "scrolled": false
   },
   "outputs": [
    {
     "name": "stdout",
     "output_type": "stream",
     "text": [
      "[[203   0]\n",
      " [ 93   4]]\n"
     ]
    },
    {
     "data": {
      "text/plain": [
       "0.69"
      ]
     },
     "execution_count": 29,
     "metadata": {},
     "output_type": "execute_result"
    }
   ],
   "source": [
    "from sklearn.metrics import confusion_matrix, accuracy_score\n",
    "cmlr = confusion_matrix(test_y, y_pred_lr)\n",
    "print(cmlr)\n",
    "accuracy_score(test_y, y_pred_lr)"
   ]
  },
  {
   "cell_type": "markdown",
   "id": "21b90924",
   "metadata": {},
   "source": [
    "# Using enseable learning Methods to predict target variable #"
   ]
  },
  {
   "cell_type": "markdown",
   "id": "ffa30554",
   "metadata": {},
   "source": [
    "## XGBOOST ##"
   ]
  },
  {
   "cell_type": "code",
   "execution_count": 156,
   "id": "950c28b7",
   "metadata": {},
   "outputs": [],
   "source": [
    "# Hyper Parameter Optimization using RandomSearchCV\n",
    "params={\n",
    " \"learning_rate\"    : [0.05, 0.10, 0.15, 0.20, 0.25, 0.30 ] ,\n",
    " \"max_depth\"        : [ 3, 4, 5, 6, 8, 10, 12, 15],\n",
    " \"min_child_weight\" : [ 1, 3, 5, 7 ],\n",
    " \"random_state\"     : [ 0, 42, 12 , 10],\n",
    " \"colsample_bytree\" : [ 0.3, 0.4, 0.5 , 0.7 ]\n",
    "    \n",
    "}\n",
    "from sklearn.model_selection import RandomizedSearchCV\n",
    "classifierXGB=xgb.XGBClassifier()\n",
    "random_search=RandomizedSearchCV(classifierXGB,param_distributions=params,scoring='accuracy',cv=5,n_jobs=-1,verbose=3)"
   ]
  },
  {
   "cell_type": "code",
   "execution_count": 157,
   "id": "ecdba60c",
   "metadata": {},
   "outputs": [
    {
     "name": "stdout",
     "output_type": "stream",
     "text": [
      "Fitting 5 folds for each of 10 candidates, totalling 50 fits\n"
     ]
    },
    {
     "data": {
      "text/html": [
       "<style>#sk-container-id-19 {color: black;background-color: white;}#sk-container-id-19 pre{padding: 0;}#sk-container-id-19 div.sk-toggleable {background-color: white;}#sk-container-id-19 label.sk-toggleable__label {cursor: pointer;display: block;width: 100%;margin-bottom: 0;padding: 0.3em;box-sizing: border-box;text-align: center;}#sk-container-id-19 label.sk-toggleable__label-arrow:before {content: \"▸\";float: left;margin-right: 0.25em;color: #696969;}#sk-container-id-19 label.sk-toggleable__label-arrow:hover:before {color: black;}#sk-container-id-19 div.sk-estimator:hover label.sk-toggleable__label-arrow:before {color: black;}#sk-container-id-19 div.sk-toggleable__content {max-height: 0;max-width: 0;overflow: hidden;text-align: left;background-color: #f0f8ff;}#sk-container-id-19 div.sk-toggleable__content pre {margin: 0.2em;color: black;border-radius: 0.25em;background-color: #f0f8ff;}#sk-container-id-19 input.sk-toggleable__control:checked~div.sk-toggleable__content {max-height: 200px;max-width: 100%;overflow: auto;}#sk-container-id-19 input.sk-toggleable__control:checked~label.sk-toggleable__label-arrow:before {content: \"▾\";}#sk-container-id-19 div.sk-estimator input.sk-toggleable__control:checked~label.sk-toggleable__label {background-color: #d4ebff;}#sk-container-id-19 div.sk-label input.sk-toggleable__control:checked~label.sk-toggleable__label {background-color: #d4ebff;}#sk-container-id-19 input.sk-hidden--visually {border: 0;clip: rect(1px 1px 1px 1px);clip: rect(1px, 1px, 1px, 1px);height: 1px;margin: -1px;overflow: hidden;padding: 0;position: absolute;width: 1px;}#sk-container-id-19 div.sk-estimator {font-family: monospace;background-color: #f0f8ff;border: 1px dotted black;border-radius: 0.25em;box-sizing: border-box;margin-bottom: 0.5em;}#sk-container-id-19 div.sk-estimator:hover {background-color: #d4ebff;}#sk-container-id-19 div.sk-parallel-item::after {content: \"\";width: 100%;border-bottom: 1px solid gray;flex-grow: 1;}#sk-container-id-19 div.sk-label:hover label.sk-toggleable__label {background-color: #d4ebff;}#sk-container-id-19 div.sk-serial::before {content: \"\";position: absolute;border-left: 1px solid gray;box-sizing: border-box;top: 0;bottom: 0;left: 50%;z-index: 0;}#sk-container-id-19 div.sk-serial {display: flex;flex-direction: column;align-items: center;background-color: white;padding-right: 0.2em;padding-left: 0.2em;position: relative;}#sk-container-id-19 div.sk-item {position: relative;z-index: 1;}#sk-container-id-19 div.sk-parallel {display: flex;align-items: stretch;justify-content: center;background-color: white;position: relative;}#sk-container-id-19 div.sk-item::before, #sk-container-id-19 div.sk-parallel-item::before {content: \"\";position: absolute;border-left: 1px solid gray;box-sizing: border-box;top: 0;bottom: 0;left: 50%;z-index: -1;}#sk-container-id-19 div.sk-parallel-item {display: flex;flex-direction: column;z-index: 1;position: relative;background-color: white;}#sk-container-id-19 div.sk-parallel-item:first-child::after {align-self: flex-end;width: 50%;}#sk-container-id-19 div.sk-parallel-item:last-child::after {align-self: flex-start;width: 50%;}#sk-container-id-19 div.sk-parallel-item:only-child::after {width: 0;}#sk-container-id-19 div.sk-dashed-wrapped {border: 1px dashed gray;margin: 0 0.4em 0.5em 0.4em;box-sizing: border-box;padding-bottom: 0.4em;background-color: white;}#sk-container-id-19 div.sk-label label {font-family: monospace;font-weight: bold;display: inline-block;line-height: 1.2em;}#sk-container-id-19 div.sk-label-container {text-align: center;}#sk-container-id-19 div.sk-container {/* jupyter's `normalize.less` sets `[hidden] { display: none; }` but bootstrap.min.css set `[hidden] { display: none !important; }` so we also need the `!important` here to be able to override the default hidden behavior on the sphinx rendered scikit-learn.org. See: https://github.com/scikit-learn/scikit-learn/issues/21755 */display: inline-block !important;position: relative;}#sk-container-id-19 div.sk-text-repr-fallback {display: none;}</style><div id=\"sk-container-id-19\" class=\"sk-top-container\"><div class=\"sk-text-repr-fallback\"><pre>RandomizedSearchCV(cv=5,\n",
       "                   estimator=XGBClassifier(base_score=None, booster=None,\n",
       "                                           callbacks=None,\n",
       "                                           colsample_bylevel=None,\n",
       "                                           colsample_bynode=None,\n",
       "                                           colsample_bytree=None,\n",
       "                                           early_stopping_rounds=None,\n",
       "                                           enable_categorical=False,\n",
       "                                           eval_metric=None, feature_types=None,\n",
       "                                           gamma=None, gpu_id=None,\n",
       "                                           grow_policy=None,\n",
       "                                           importance_type=None,\n",
       "                                           interaction_constraints=None,\n",
       "                                           learning_rate...\n",
       "                                           min_child_weight=None, missing=nan,\n",
       "                                           monotone_constraints=None,\n",
       "                                           n_estimators=100, n_jobs=None,\n",
       "                                           num_parallel_tree=None,\n",
       "                                           predictor=None, random_state=None, ...),\n",
       "                   n_jobs=-1,\n",
       "                   param_distributions={&#x27;colsample_bytree&#x27;: [0.3, 0.4, 0.5,\n",
       "                                                             0.7],\n",
       "                                        &#x27;learning_rate&#x27;: [0.05, 0.1, 0.15, 0.2,\n",
       "                                                          0.25, 0.3],\n",
       "                                        &#x27;max_depth&#x27;: [3, 4, 5, 6, 8, 10, 12,\n",
       "                                                      15],\n",
       "                                        &#x27;min_child_weight&#x27;: [1, 3, 5, 7],\n",
       "                                        &#x27;random_state&#x27;: [0, 42, 12, 10]},\n",
       "                   scoring=&#x27;accuracy&#x27;, verbose=3)</pre><b>In a Jupyter environment, please rerun this cell to show the HTML representation or trust the notebook. <br />On GitHub, the HTML representation is unable to render, please try loading this page with nbviewer.org.</b></div><div class=\"sk-container\" hidden><div class=\"sk-item sk-dashed-wrapped\"><div class=\"sk-label-container\"><div class=\"sk-label sk-toggleable\"><input class=\"sk-toggleable__control sk-hidden--visually\" id=\"sk-estimator-id-21\" type=\"checkbox\" ><label for=\"sk-estimator-id-21\" class=\"sk-toggleable__label sk-toggleable__label-arrow\">RandomizedSearchCV</label><div class=\"sk-toggleable__content\"><pre>RandomizedSearchCV(cv=5,\n",
       "                   estimator=XGBClassifier(base_score=None, booster=None,\n",
       "                                           callbacks=None,\n",
       "                                           colsample_bylevel=None,\n",
       "                                           colsample_bynode=None,\n",
       "                                           colsample_bytree=None,\n",
       "                                           early_stopping_rounds=None,\n",
       "                                           enable_categorical=False,\n",
       "                                           eval_metric=None, feature_types=None,\n",
       "                                           gamma=None, gpu_id=None,\n",
       "                                           grow_policy=None,\n",
       "                                           importance_type=None,\n",
       "                                           interaction_constraints=None,\n",
       "                                           learning_rate...\n",
       "                                           min_child_weight=None, missing=nan,\n",
       "                                           monotone_constraints=None,\n",
       "                                           n_estimators=100, n_jobs=None,\n",
       "                                           num_parallel_tree=None,\n",
       "                                           predictor=None, random_state=None, ...),\n",
       "                   n_jobs=-1,\n",
       "                   param_distributions={&#x27;colsample_bytree&#x27;: [0.3, 0.4, 0.5,\n",
       "                                                             0.7],\n",
       "                                        &#x27;learning_rate&#x27;: [0.05, 0.1, 0.15, 0.2,\n",
       "                                                          0.25, 0.3],\n",
       "                                        &#x27;max_depth&#x27;: [3, 4, 5, 6, 8, 10, 12,\n",
       "                                                      15],\n",
       "                                        &#x27;min_child_weight&#x27;: [1, 3, 5, 7],\n",
       "                                        &#x27;random_state&#x27;: [0, 42, 12, 10]},\n",
       "                   scoring=&#x27;accuracy&#x27;, verbose=3)</pre></div></div></div><div class=\"sk-parallel\"><div class=\"sk-parallel-item\"><div class=\"sk-item\"><div class=\"sk-label-container\"><div class=\"sk-label sk-toggleable\"><input class=\"sk-toggleable__control sk-hidden--visually\" id=\"sk-estimator-id-22\" type=\"checkbox\" ><label for=\"sk-estimator-id-22\" class=\"sk-toggleable__label sk-toggleable__label-arrow\">estimator: XGBClassifier</label><div class=\"sk-toggleable__content\"><pre>XGBClassifier(base_score=None, booster=None, callbacks=None,\n",
       "              colsample_bylevel=None, colsample_bynode=None,\n",
       "              colsample_bytree=None, early_stopping_rounds=None,\n",
       "              enable_categorical=False, eval_metric=None, feature_types=None,\n",
       "              gamma=None, gpu_id=None, grow_policy=None, importance_type=None,\n",
       "              interaction_constraints=None, learning_rate=None, max_bin=None,\n",
       "              max_cat_threshold=None, max_cat_to_onehot=None,\n",
       "              max_delta_step=None, max_depth=None, max_leaves=None,\n",
       "              min_child_weight=None, missing=nan, monotone_constraints=None,\n",
       "              n_estimators=100, n_jobs=None, num_parallel_tree=None,\n",
       "              predictor=None, random_state=None, ...)</pre></div></div></div><div class=\"sk-serial\"><div class=\"sk-item\"><div class=\"sk-estimator sk-toggleable\"><input class=\"sk-toggleable__control sk-hidden--visually\" id=\"sk-estimator-id-23\" type=\"checkbox\" ><label for=\"sk-estimator-id-23\" class=\"sk-toggleable__label sk-toggleable__label-arrow\">XGBClassifier</label><div class=\"sk-toggleable__content\"><pre>XGBClassifier(base_score=None, booster=None, callbacks=None,\n",
       "              colsample_bylevel=None, colsample_bynode=None,\n",
       "              colsample_bytree=None, early_stopping_rounds=None,\n",
       "              enable_categorical=False, eval_metric=None, feature_types=None,\n",
       "              gamma=None, gpu_id=None, grow_policy=None, importance_type=None,\n",
       "              interaction_constraints=None, learning_rate=None, max_bin=None,\n",
       "              max_cat_threshold=None, max_cat_to_onehot=None,\n",
       "              max_delta_step=None, max_depth=None, max_leaves=None,\n",
       "              min_child_weight=None, missing=nan, monotone_constraints=None,\n",
       "              n_estimators=100, n_jobs=None, num_parallel_tree=None,\n",
       "              predictor=None, random_state=None, ...)</pre></div></div></div></div></div></div></div></div></div></div>"
      ],
      "text/plain": [
       "RandomizedSearchCV(cv=5,\n",
       "                   estimator=XGBClassifier(base_score=None, booster=None,\n",
       "                                           callbacks=None,\n",
       "                                           colsample_bylevel=None,\n",
       "                                           colsample_bynode=None,\n",
       "                                           colsample_bytree=None,\n",
       "                                           early_stopping_rounds=None,\n",
       "                                           enable_categorical=False,\n",
       "                                           eval_metric=None, feature_types=None,\n",
       "                                           gamma=None, gpu_id=None,\n",
       "                                           grow_policy=None,\n",
       "                                           importance_type=None,\n",
       "                                           interaction_constraints=None,\n",
       "                                           learning_rate...\n",
       "                                           min_child_weight=None, missing=nan,\n",
       "                                           monotone_constraints=None,\n",
       "                                           n_estimators=100, n_jobs=None,\n",
       "                                           num_parallel_tree=None,\n",
       "                                           predictor=None, random_state=None, ...),\n",
       "                   n_jobs=-1,\n",
       "                   param_distributions={'colsample_bytree': [0.3, 0.4, 0.5,\n",
       "                                                             0.7],\n",
       "                                        'learning_rate': [0.05, 0.1, 0.15, 0.2,\n",
       "                                                          0.25, 0.3],\n",
       "                                        'max_depth': [3, 4, 5, 6, 8, 10, 12,\n",
       "                                                      15],\n",
       "                                        'min_child_weight': [1, 3, 5, 7],\n",
       "                                        'random_state': [0, 42, 12, 10]},\n",
       "                   scoring='accuracy', verbose=3)"
      ]
     },
     "execution_count": 157,
     "metadata": {},
     "output_type": "execute_result"
    }
   ],
   "source": [
    "random_search.fit(X,y)"
   ]
  },
  {
   "cell_type": "code",
   "execution_count": 158,
   "id": "cd198e48",
   "metadata": {},
   "outputs": [
    {
     "data": {
      "text/plain": [
       "{'random_state': 12,\n",
       " 'min_child_weight': 1,\n",
       " 'max_depth': 10,\n",
       " 'learning_rate': 0.05,\n",
       " 'colsample_bytree': 0.3}"
      ]
     },
     "execution_count": 158,
     "metadata": {},
     "output_type": "execute_result"
    }
   ],
   "source": [
    "random_search.best_params_"
   ]
  },
  {
   "cell_type": "code",
   "execution_count": 30,
   "id": "39a68316",
   "metadata": {},
   "outputs": [
    {
     "data": {
      "text/html": [
       "<style>#sk-container-id-1 {color: black;background-color: white;}#sk-container-id-1 pre{padding: 0;}#sk-container-id-1 div.sk-toggleable {background-color: white;}#sk-container-id-1 label.sk-toggleable__label {cursor: pointer;display: block;width: 100%;margin-bottom: 0;padding: 0.3em;box-sizing: border-box;text-align: center;}#sk-container-id-1 label.sk-toggleable__label-arrow:before {content: \"▸\";float: left;margin-right: 0.25em;color: #696969;}#sk-container-id-1 label.sk-toggleable__label-arrow:hover:before {color: black;}#sk-container-id-1 div.sk-estimator:hover label.sk-toggleable__label-arrow:before {color: black;}#sk-container-id-1 div.sk-toggleable__content {max-height: 0;max-width: 0;overflow: hidden;text-align: left;background-color: #f0f8ff;}#sk-container-id-1 div.sk-toggleable__content pre {margin: 0.2em;color: black;border-radius: 0.25em;background-color: #f0f8ff;}#sk-container-id-1 input.sk-toggleable__control:checked~div.sk-toggleable__content {max-height: 200px;max-width: 100%;overflow: auto;}#sk-container-id-1 input.sk-toggleable__control:checked~label.sk-toggleable__label-arrow:before {content: \"▾\";}#sk-container-id-1 div.sk-estimator input.sk-toggleable__control:checked~label.sk-toggleable__label {background-color: #d4ebff;}#sk-container-id-1 div.sk-label input.sk-toggleable__control:checked~label.sk-toggleable__label {background-color: #d4ebff;}#sk-container-id-1 input.sk-hidden--visually {border: 0;clip: rect(1px 1px 1px 1px);clip: rect(1px, 1px, 1px, 1px);height: 1px;margin: -1px;overflow: hidden;padding: 0;position: absolute;width: 1px;}#sk-container-id-1 div.sk-estimator {font-family: monospace;background-color: #f0f8ff;border: 1px dotted black;border-radius: 0.25em;box-sizing: border-box;margin-bottom: 0.5em;}#sk-container-id-1 div.sk-estimator:hover {background-color: #d4ebff;}#sk-container-id-1 div.sk-parallel-item::after {content: \"\";width: 100%;border-bottom: 1px solid gray;flex-grow: 1;}#sk-container-id-1 div.sk-label:hover label.sk-toggleable__label {background-color: #d4ebff;}#sk-container-id-1 div.sk-serial::before {content: \"\";position: absolute;border-left: 1px solid gray;box-sizing: border-box;top: 0;bottom: 0;left: 50%;z-index: 0;}#sk-container-id-1 div.sk-serial {display: flex;flex-direction: column;align-items: center;background-color: white;padding-right: 0.2em;padding-left: 0.2em;position: relative;}#sk-container-id-1 div.sk-item {position: relative;z-index: 1;}#sk-container-id-1 div.sk-parallel {display: flex;align-items: stretch;justify-content: center;background-color: white;position: relative;}#sk-container-id-1 div.sk-item::before, #sk-container-id-1 div.sk-parallel-item::before {content: \"\";position: absolute;border-left: 1px solid gray;box-sizing: border-box;top: 0;bottom: 0;left: 50%;z-index: -1;}#sk-container-id-1 div.sk-parallel-item {display: flex;flex-direction: column;z-index: 1;position: relative;background-color: white;}#sk-container-id-1 div.sk-parallel-item:first-child::after {align-self: flex-end;width: 50%;}#sk-container-id-1 div.sk-parallel-item:last-child::after {align-self: flex-start;width: 50%;}#sk-container-id-1 div.sk-parallel-item:only-child::after {width: 0;}#sk-container-id-1 div.sk-dashed-wrapped {border: 1px dashed gray;margin: 0 0.4em 0.5em 0.4em;box-sizing: border-box;padding-bottom: 0.4em;background-color: white;}#sk-container-id-1 div.sk-label label {font-family: monospace;font-weight: bold;display: inline-block;line-height: 1.2em;}#sk-container-id-1 div.sk-label-container {text-align: center;}#sk-container-id-1 div.sk-container {/* jupyter's `normalize.less` sets `[hidden] { display: none; }` but bootstrap.min.css set `[hidden] { display: none !important; }` so we also need the `!important` here to be able to override the default hidden behavior on the sphinx rendered scikit-learn.org. See: https://github.com/scikit-learn/scikit-learn/issues/21755 */display: inline-block !important;position: relative;}#sk-container-id-1 div.sk-text-repr-fallback {display: none;}</style><div id=\"sk-container-id-1\" class=\"sk-top-container\"><div class=\"sk-text-repr-fallback\"><pre>XGBClassifier(base_score=None, booster=None, callbacks=None,\n",
       "              colsample_bylevel=None, colsample_bynode=None,\n",
       "              colsample_bytree=0.3, early_stopping_rounds=None,\n",
       "              enable_categorical=False, eval_metric=None, feature_types=None,\n",
       "              gamma=0.4, gpu_id=None, grow_policy=None, importance_type=None,\n",
       "              interaction_constraints=None, learning_rate=0.15, max_bin=None,\n",
       "              max_cat_threshold=None, max_cat_to_onehot=None,\n",
       "              max_delta_step=None, max_depth=10, max_leaves=None,\n",
       "              min_child_weight=5, missing=nan, monotone_constraints=None,\n",
       "              n_estimators=100, n_jobs=None, num_parallel_tree=None,\n",
       "              predictor=None, random_state=0, ...)</pre><b>In a Jupyter environment, please rerun this cell to show the HTML representation or trust the notebook. <br />On GitHub, the HTML representation is unable to render, please try loading this page with nbviewer.org.</b></div><div class=\"sk-container\" hidden><div class=\"sk-item\"><div class=\"sk-estimator sk-toggleable\"><input class=\"sk-toggleable__control sk-hidden--visually\" id=\"sk-estimator-id-1\" type=\"checkbox\" checked><label for=\"sk-estimator-id-1\" class=\"sk-toggleable__label sk-toggleable__label-arrow\">XGBClassifier</label><div class=\"sk-toggleable__content\"><pre>XGBClassifier(base_score=None, booster=None, callbacks=None,\n",
       "              colsample_bylevel=None, colsample_bynode=None,\n",
       "              colsample_bytree=0.3, early_stopping_rounds=None,\n",
       "              enable_categorical=False, eval_metric=None, feature_types=None,\n",
       "              gamma=0.4, gpu_id=None, grow_policy=None, importance_type=None,\n",
       "              interaction_constraints=None, learning_rate=0.15, max_bin=None,\n",
       "              max_cat_threshold=None, max_cat_to_onehot=None,\n",
       "              max_delta_step=None, max_depth=10, max_leaves=None,\n",
       "              min_child_weight=5, missing=nan, monotone_constraints=None,\n",
       "              n_estimators=100, n_jobs=None, num_parallel_tree=None,\n",
       "              predictor=None, random_state=0, ...)</pre></div></div></div></div></div>"
      ],
      "text/plain": [
       "XGBClassifier(base_score=None, booster=None, callbacks=None,\n",
       "              colsample_bylevel=None, colsample_bynode=None,\n",
       "              colsample_bytree=0.3, early_stopping_rounds=None,\n",
       "              enable_categorical=False, eval_metric=None, feature_types=None,\n",
       "              gamma=0.4, gpu_id=None, grow_policy=None, importance_type=None,\n",
       "              interaction_constraints=None, learning_rate=0.15, max_bin=None,\n",
       "              max_cat_threshold=None, max_cat_to_onehot=None,\n",
       "              max_delta_step=None, max_depth=10, max_leaves=None,\n",
       "              min_child_weight=5, missing=nan, monotone_constraints=None,\n",
       "              n_estimators=100, n_jobs=None, num_parallel_tree=None,\n",
       "              predictor=None, random_state=0, ...)"
      ]
     },
     "execution_count": 30,
     "metadata": {},
     "output_type": "execute_result"
    }
   ],
   "source": [
    "classifierXGB=xgb.XGBClassifier(min_child_weight=5,max_depth=10,learning_rate=0.15,colsample_bytree=0.3,random_state=0,gamma=0.4)\n",
    "classifierXGB.fit(X,y)"
   ]
  },
  {
   "cell_type": "code",
   "execution_count": 31,
   "id": "f13b4bec",
   "metadata": {
    "scrolled": true
   },
   "outputs": [
    {
     "name": "stdout",
     "output_type": "stream",
     "text": [
      "[0 0 0 0 0 0 0 0 0 0 0 0 1 0 0 0 0 0 0 1 0 0 0 0 0 0 0 0 0 0 1 0 0 0 0 0 0\n",
      " 0 0 0 0 0 0 0 0 0 0 0 0 0 0 0 0 0 0 0 0 0 0 0 0 0 0 0 0 0 0 1 0 0 0 0 0 0\n",
      " 0 0 0 0 0 0 0 0 0 0 0 0 0 0 0 0 0 0 0 0 0 0 0 0 0 0 0 0 0 0 1 0 0 0 0 0 0\n",
      " 0 0 1 0 0 0 0 0 0 0 0 0 0 0 0 0 0 1 0 0 0 0 0 0 0 0 0 0 0 0 0 0 0 0 0 0 0\n",
      " 0 0 1 0 0 0 0 0 0 0 0 0 0 0 0 1 0 0 0 0 0 0 0 0 1 0 0 0 0 0 0 0 0 0 1 0 0\n",
      " 0 0 0 0 0 0 0 0 0 1 0 0 0 0 0 0 0 0 0 1 0 0 0 0 0 0 0 0 0 0 0 0 0 1 0 0 0\n",
      " 0 0 0 0 0 0 0 0 0 0 1 0 0 0 0 0 0 0 0 0 0 0 0 0 1 0 0 0 0 1 0 1 0 0 0 0 0\n",
      " 0 0 0 0 1 0 0 0 0 0 0 0 0 0 0 0 0 0 0 0 0 0 0 0 0 0 0 0 0 0 0 0 0 0 0 0 0\n",
      " 0 0 0 0]\n"
     ]
    }
   ],
   "source": [
    "y_predXGB=classifierXGB.predict(test_X)\n",
    "print(y_predXGB)"
   ]
  },
  {
   "cell_type": "markdown",
   "id": "ec1c37df",
   "metadata": {},
   "source": [
    "## Accuracy Metrics ##"
   ]
  },
  {
   "cell_type": "code",
   "execution_count": 32,
   "id": "4f33f10b",
   "metadata": {},
   "outputs": [
    {
     "name": "stdout",
     "output_type": "stream",
     "text": [
      "[[200   3]\n",
      " [ 81  16]]\n"
     ]
    },
    {
     "data": {
      "text/plain": [
       "0.72"
      ]
     },
     "execution_count": 32,
     "metadata": {},
     "output_type": "execute_result"
    }
   ],
   "source": [
    "cmXGB = confusion_matrix(test_y, y_predXGB)\n",
    "print(cmXGB)\n",
    "accuracy_score(test_y, y_predXGB)"
   ]
  },
  {
   "cell_type": "markdown",
   "id": "c272bec6",
   "metadata": {},
   "source": [
    "## Bagging Classifier ##"
   ]
  },
  {
   "cell_type": "code",
   "execution_count": 33,
   "id": "5155d63f",
   "metadata": {},
   "outputs": [
    {
     "data": {
      "text/html": [
       "<style>#sk-container-id-2 {color: black;background-color: white;}#sk-container-id-2 pre{padding: 0;}#sk-container-id-2 div.sk-toggleable {background-color: white;}#sk-container-id-2 label.sk-toggleable__label {cursor: pointer;display: block;width: 100%;margin-bottom: 0;padding: 0.3em;box-sizing: border-box;text-align: center;}#sk-container-id-2 label.sk-toggleable__label-arrow:before {content: \"▸\";float: left;margin-right: 0.25em;color: #696969;}#sk-container-id-2 label.sk-toggleable__label-arrow:hover:before {color: black;}#sk-container-id-2 div.sk-estimator:hover label.sk-toggleable__label-arrow:before {color: black;}#sk-container-id-2 div.sk-toggleable__content {max-height: 0;max-width: 0;overflow: hidden;text-align: left;background-color: #f0f8ff;}#sk-container-id-2 div.sk-toggleable__content pre {margin: 0.2em;color: black;border-radius: 0.25em;background-color: #f0f8ff;}#sk-container-id-2 input.sk-toggleable__control:checked~div.sk-toggleable__content {max-height: 200px;max-width: 100%;overflow: auto;}#sk-container-id-2 input.sk-toggleable__control:checked~label.sk-toggleable__label-arrow:before {content: \"▾\";}#sk-container-id-2 div.sk-estimator input.sk-toggleable__control:checked~label.sk-toggleable__label {background-color: #d4ebff;}#sk-container-id-2 div.sk-label input.sk-toggleable__control:checked~label.sk-toggleable__label {background-color: #d4ebff;}#sk-container-id-2 input.sk-hidden--visually {border: 0;clip: rect(1px 1px 1px 1px);clip: rect(1px, 1px, 1px, 1px);height: 1px;margin: -1px;overflow: hidden;padding: 0;position: absolute;width: 1px;}#sk-container-id-2 div.sk-estimator {font-family: monospace;background-color: #f0f8ff;border: 1px dotted black;border-radius: 0.25em;box-sizing: border-box;margin-bottom: 0.5em;}#sk-container-id-2 div.sk-estimator:hover {background-color: #d4ebff;}#sk-container-id-2 div.sk-parallel-item::after {content: \"\";width: 100%;border-bottom: 1px solid gray;flex-grow: 1;}#sk-container-id-2 div.sk-label:hover label.sk-toggleable__label {background-color: #d4ebff;}#sk-container-id-2 div.sk-serial::before {content: \"\";position: absolute;border-left: 1px solid gray;box-sizing: border-box;top: 0;bottom: 0;left: 50%;z-index: 0;}#sk-container-id-2 div.sk-serial {display: flex;flex-direction: column;align-items: center;background-color: white;padding-right: 0.2em;padding-left: 0.2em;position: relative;}#sk-container-id-2 div.sk-item {position: relative;z-index: 1;}#sk-container-id-2 div.sk-parallel {display: flex;align-items: stretch;justify-content: center;background-color: white;position: relative;}#sk-container-id-2 div.sk-item::before, #sk-container-id-2 div.sk-parallel-item::before {content: \"\";position: absolute;border-left: 1px solid gray;box-sizing: border-box;top: 0;bottom: 0;left: 50%;z-index: -1;}#sk-container-id-2 div.sk-parallel-item {display: flex;flex-direction: column;z-index: 1;position: relative;background-color: white;}#sk-container-id-2 div.sk-parallel-item:first-child::after {align-self: flex-end;width: 50%;}#sk-container-id-2 div.sk-parallel-item:last-child::after {align-self: flex-start;width: 50%;}#sk-container-id-2 div.sk-parallel-item:only-child::after {width: 0;}#sk-container-id-2 div.sk-dashed-wrapped {border: 1px dashed gray;margin: 0 0.4em 0.5em 0.4em;box-sizing: border-box;padding-bottom: 0.4em;background-color: white;}#sk-container-id-2 div.sk-label label {font-family: monospace;font-weight: bold;display: inline-block;line-height: 1.2em;}#sk-container-id-2 div.sk-label-container {text-align: center;}#sk-container-id-2 div.sk-container {/* jupyter's `normalize.less` sets `[hidden] { display: none; }` but bootstrap.min.css set `[hidden] { display: none !important; }` so we also need the `!important` here to be able to override the default hidden behavior on the sphinx rendered scikit-learn.org. See: https://github.com/scikit-learn/scikit-learn/issues/21755 */display: inline-block !important;position: relative;}#sk-container-id-2 div.sk-text-repr-fallback {display: none;}</style><div id=\"sk-container-id-2\" class=\"sk-top-container\"><div class=\"sk-text-repr-fallback\"><pre>BaggingClassifier(random_state=0)</pre><b>In a Jupyter environment, please rerun this cell to show the HTML representation or trust the notebook. <br />On GitHub, the HTML representation is unable to render, please try loading this page with nbviewer.org.</b></div><div class=\"sk-container\" hidden><div class=\"sk-item\"><div class=\"sk-estimator sk-toggleable\"><input class=\"sk-toggleable__control sk-hidden--visually\" id=\"sk-estimator-id-2\" type=\"checkbox\" checked><label for=\"sk-estimator-id-2\" class=\"sk-toggleable__label sk-toggleable__label-arrow\">BaggingClassifier</label><div class=\"sk-toggleable__content\"><pre>BaggingClassifier(random_state=0)</pre></div></div></div></div></div>"
      ],
      "text/plain": [
       "BaggingClassifier(random_state=0)"
      ]
     },
     "execution_count": 33,
     "metadata": {},
     "output_type": "execute_result"
    }
   ],
   "source": [
    "from sklearn.ensemble import BaggingClassifier\n",
    "classifierBC=BaggingClassifier(n_estimators=10,random_state=0)\n",
    "classifierBC.fit(X,y)"
   ]
  },
  {
   "cell_type": "code",
   "execution_count": 34,
   "id": "c831aefc",
   "metadata": {
    "scrolled": true
   },
   "outputs": [
    {
     "name": "stdout",
     "output_type": "stream",
     "text": [
      "[0 0 0 0 0 0 0 0 0 0 0 0 0 0 0 0 0 0 0 0 0 0 0 0 0 0 0 0 0 0 0 0 0 0 0 0 0\n",
      " 0 0 0 0 0 0 0 0 0 0 0 0 0 0 1 0 0 0 0 0 0 0 0 0 0 0 0 0 0 0 1 0 0 0 0 0 0\n",
      " 0 0 0 0 0 0 0 0 0 0 0 0 0 0 0 0 0 1 0 0 0 0 0 0 0 0 0 0 0 0 0 0 1 0 0 0 0\n",
      " 0 0 1 0 0 0 0 0 0 0 0 0 0 0 0 0 0 1 0 0 0 0 0 0 0 0 0 0 0 0 0 0 0 0 0 0 0\n",
      " 0 0 0 0 0 0 0 0 0 0 0 0 0 0 0 0 0 0 0 0 0 0 0 0 0 0 0 0 0 0 0 0 0 0 0 0 0\n",
      " 0 0 0 0 0 0 0 0 0 1 0 0 0 0 0 0 0 0 0 1 0 0 0 0 0 0 0 0 0 0 0 0 0 0 0 0 0\n",
      " 0 0 0 0 0 0 0 0 0 0 1 0 0 0 0 0 0 0 0 0 0 0 0 0 1 1 0 0 0 1 0 1 0 0 0 0 0\n",
      " 0 0 0 0 1 0 0 0 0 0 0 0 0 0 0 0 0 0 0 0 0 0 0 1 0 0 0 0 0 0 0 0 0 0 0 0 0\n",
      " 0 0 0 0]\n"
     ]
    }
   ],
   "source": [
    "y_predBC=classifierBC.predict(test_X)\n",
    "print(y_predBC)"
   ]
  },
  {
   "cell_type": "markdown",
   "id": "49c6ceb1",
   "metadata": {},
   "source": [
    "## Accuracy Metrics ##"
   ]
  },
  {
   "cell_type": "code",
   "execution_count": 35,
   "id": "4e56f4a4",
   "metadata": {},
   "outputs": [
    {
     "name": "stdout",
     "output_type": "stream",
     "text": [
      "[[202   1]\n",
      " [ 83  14]]\n"
     ]
    },
    {
     "data": {
      "text/plain": [
       "0.72"
      ]
     },
     "execution_count": 35,
     "metadata": {},
     "output_type": "execute_result"
    }
   ],
   "source": [
    "cmBC = confusion_matrix(test_y, y_predBC)\n",
    "print(cmBC)\n",
    "accuracy_score(test_y, y_predBC)"
   ]
  },
  {
   "cell_type": "markdown",
   "id": "bf7d8644",
   "metadata": {},
   "source": [
    "## Random Forest ##"
   ]
  },
  {
   "cell_type": "code",
   "execution_count": 36,
   "id": "b53fb1bc",
   "metadata": {},
   "outputs": [
    {
     "data": {
      "text/html": [
       "<style>#sk-container-id-3 {color: black;background-color: white;}#sk-container-id-3 pre{padding: 0;}#sk-container-id-3 div.sk-toggleable {background-color: white;}#sk-container-id-3 label.sk-toggleable__label {cursor: pointer;display: block;width: 100%;margin-bottom: 0;padding: 0.3em;box-sizing: border-box;text-align: center;}#sk-container-id-3 label.sk-toggleable__label-arrow:before {content: \"▸\";float: left;margin-right: 0.25em;color: #696969;}#sk-container-id-3 label.sk-toggleable__label-arrow:hover:before {color: black;}#sk-container-id-3 div.sk-estimator:hover label.sk-toggleable__label-arrow:before {color: black;}#sk-container-id-3 div.sk-toggleable__content {max-height: 0;max-width: 0;overflow: hidden;text-align: left;background-color: #f0f8ff;}#sk-container-id-3 div.sk-toggleable__content pre {margin: 0.2em;color: black;border-radius: 0.25em;background-color: #f0f8ff;}#sk-container-id-3 input.sk-toggleable__control:checked~div.sk-toggleable__content {max-height: 200px;max-width: 100%;overflow: auto;}#sk-container-id-3 input.sk-toggleable__control:checked~label.sk-toggleable__label-arrow:before {content: \"▾\";}#sk-container-id-3 div.sk-estimator input.sk-toggleable__control:checked~label.sk-toggleable__label {background-color: #d4ebff;}#sk-container-id-3 div.sk-label input.sk-toggleable__control:checked~label.sk-toggleable__label {background-color: #d4ebff;}#sk-container-id-3 input.sk-hidden--visually {border: 0;clip: rect(1px 1px 1px 1px);clip: rect(1px, 1px, 1px, 1px);height: 1px;margin: -1px;overflow: hidden;padding: 0;position: absolute;width: 1px;}#sk-container-id-3 div.sk-estimator {font-family: monospace;background-color: #f0f8ff;border: 1px dotted black;border-radius: 0.25em;box-sizing: border-box;margin-bottom: 0.5em;}#sk-container-id-3 div.sk-estimator:hover {background-color: #d4ebff;}#sk-container-id-3 div.sk-parallel-item::after {content: \"\";width: 100%;border-bottom: 1px solid gray;flex-grow: 1;}#sk-container-id-3 div.sk-label:hover label.sk-toggleable__label {background-color: #d4ebff;}#sk-container-id-3 div.sk-serial::before {content: \"\";position: absolute;border-left: 1px solid gray;box-sizing: border-box;top: 0;bottom: 0;left: 50%;z-index: 0;}#sk-container-id-3 div.sk-serial {display: flex;flex-direction: column;align-items: center;background-color: white;padding-right: 0.2em;padding-left: 0.2em;position: relative;}#sk-container-id-3 div.sk-item {position: relative;z-index: 1;}#sk-container-id-3 div.sk-parallel {display: flex;align-items: stretch;justify-content: center;background-color: white;position: relative;}#sk-container-id-3 div.sk-item::before, #sk-container-id-3 div.sk-parallel-item::before {content: \"\";position: absolute;border-left: 1px solid gray;box-sizing: border-box;top: 0;bottom: 0;left: 50%;z-index: -1;}#sk-container-id-3 div.sk-parallel-item {display: flex;flex-direction: column;z-index: 1;position: relative;background-color: white;}#sk-container-id-3 div.sk-parallel-item:first-child::after {align-self: flex-end;width: 50%;}#sk-container-id-3 div.sk-parallel-item:last-child::after {align-self: flex-start;width: 50%;}#sk-container-id-3 div.sk-parallel-item:only-child::after {width: 0;}#sk-container-id-3 div.sk-dashed-wrapped {border: 1px dashed gray;margin: 0 0.4em 0.5em 0.4em;box-sizing: border-box;padding-bottom: 0.4em;background-color: white;}#sk-container-id-3 div.sk-label label {font-family: monospace;font-weight: bold;display: inline-block;line-height: 1.2em;}#sk-container-id-3 div.sk-label-container {text-align: center;}#sk-container-id-3 div.sk-container {/* jupyter's `normalize.less` sets `[hidden] { display: none; }` but bootstrap.min.css set `[hidden] { display: none !important; }` so we also need the `!important` here to be able to override the default hidden behavior on the sphinx rendered scikit-learn.org. See: https://github.com/scikit-learn/scikit-learn/issues/21755 */display: inline-block !important;position: relative;}#sk-container-id-3 div.sk-text-repr-fallback {display: none;}</style><div id=\"sk-container-id-3\" class=\"sk-top-container\"><div class=\"sk-text-repr-fallback\"><pre>RandomForestClassifier(random_state=0)</pre><b>In a Jupyter environment, please rerun this cell to show the HTML representation or trust the notebook. <br />On GitHub, the HTML representation is unable to render, please try loading this page with nbviewer.org.</b></div><div class=\"sk-container\" hidden><div class=\"sk-item\"><div class=\"sk-estimator sk-toggleable\"><input class=\"sk-toggleable__control sk-hidden--visually\" id=\"sk-estimator-id-3\" type=\"checkbox\" checked><label for=\"sk-estimator-id-3\" class=\"sk-toggleable__label sk-toggleable__label-arrow\">RandomForestClassifier</label><div class=\"sk-toggleable__content\"><pre>RandomForestClassifier(random_state=0)</pre></div></div></div></div></div>"
      ],
      "text/plain": [
       "RandomForestClassifier(random_state=0)"
      ]
     },
     "execution_count": 36,
     "metadata": {},
     "output_type": "execute_result"
    }
   ],
   "source": [
    "from sklearn.ensemble import RandomForestClassifier\n",
    "classifierRF = RandomForestClassifier(n_estimators=100,criterion = 'gini', random_state = 0)\n",
    "classifierRF.fit(X, y)"
   ]
  },
  {
   "cell_type": "code",
   "execution_count": 37,
   "id": "92119e4d",
   "metadata": {},
   "outputs": [
    {
     "name": "stdout",
     "output_type": "stream",
     "text": [
      "[0 0 0 0 0 0 0 0 0 0 0 0 0 0 0 0 0 0 0 1 0 0 0 0 0 0 0 0 0 0 1 0 0 0 0 0 0\n",
      " 0 0 0 0 0 0 0 0 0 0 0 0 0 0 0 0 0 0 0 0 0 0 0 0 0 1 0 0 0 0 1 0 0 0 0 0 0\n",
      " 0 0 0 0 0 0 0 0 0 0 0 0 0 0 0 0 0 0 0 0 0 0 0 0 0 0 0 0 0 0 0 0 0 0 0 0 0\n",
      " 0 0 1 0 0 0 0 0 0 0 0 0 0 0 0 0 0 1 0 0 0 0 0 0 0 0 0 0 0 0 0 0 0 0 0 0 0\n",
      " 0 0 0 0 0 0 0 0 0 0 0 0 0 0 0 0 0 0 0 0 0 0 0 0 0 0 0 0 0 0 0 0 0 0 0 0 0\n",
      " 0 0 0 0 0 0 0 0 0 1 0 0 0 0 0 0 0 0 0 1 0 0 0 0 0 0 0 0 0 0 0 0 0 1 0 0 0\n",
      " 0 0 0 0 0 0 0 0 0 0 1 0 0 0 0 0 0 0 0 0 0 0 0 0 1 0 0 0 0 1 0 1 0 0 0 0 0\n",
      " 0 0 0 0 1 0 0 0 0 0 0 0 0 0 0 0 0 0 0 0 0 0 0 1 0 0 0 0 0 0 0 0 0 0 0 0 0\n",
      " 0 0 0 0]\n"
     ]
    }
   ],
   "source": [
    "y_predRF=classifierRF.predict(test_X)\n",
    "print(y_predRF)"
   ]
  },
  {
   "cell_type": "markdown",
   "id": "c8ab9f89",
   "metadata": {},
   "source": [
    "## Accuracy Metrics ##"
   ]
  },
  {
   "cell_type": "code",
   "execution_count": 38,
   "id": "3a1f13c3",
   "metadata": {},
   "outputs": [
    {
     "name": "stdout",
     "output_type": "stream",
     "text": [
      "[[202   1]\n",
      " [ 83  14]]\n"
     ]
    },
    {
     "data": {
      "text/plain": [
       "0.72"
      ]
     },
     "execution_count": 38,
     "metadata": {},
     "output_type": "execute_result"
    }
   ],
   "source": [
    "cmRF = confusion_matrix(test_y, y_predRF)\n",
    "print(cmRF)\n",
    "accuracy_score(test_y, y_predRF)"
   ]
  },
  {
   "cell_type": "markdown",
   "id": "d8d91039",
   "metadata": {},
   "source": [
    "# Combining datasets and using Cross Validation #"
   ]
  },
  {
   "cell_type": "code",
   "execution_count": 39,
   "id": "3cdca8d6",
   "metadata": {},
   "outputs": [],
   "source": [
    "combi_X=pd.concat([X,test_X],axis=0)\n",
    "combi_y=pd.concat([y,test_y],axis=0)"
   ]
  },
  {
   "cell_type": "code",
   "execution_count": 40,
   "id": "2016af2b",
   "metadata": {
    "scrolled": true
   },
   "outputs": [
    {
     "data": {
      "text/html": [
       "<div>\n",
       "<style scoped>\n",
       "    .dataframe tbody tr th:only-of-type {\n",
       "        vertical-align: middle;\n",
       "    }\n",
       "\n",
       "    .dataframe tbody tr th {\n",
       "        vertical-align: top;\n",
       "    }\n",
       "\n",
       "    .dataframe thead th {\n",
       "        text-align: right;\n",
       "    }\n",
       "</style>\n",
       "<table border=\"1\" class=\"dataframe\">\n",
       "  <thead>\n",
       "    <tr style=\"text-align: right;\">\n",
       "      <th></th>\n",
       "      <th>hashtags</th>\n",
       "      <th>mentions</th>\n",
       "      <th>Element_1</th>\n",
       "      <th>Element_2</th>\n",
       "      <th>Element_3</th>\n",
       "      <th>Element_4</th>\n",
       "      <th>Element_5</th>\n",
       "      <th>Element_6</th>\n",
       "      <th>Element_7</th>\n",
       "      <th>Element_8</th>\n",
       "      <th>Element_9</th>\n",
       "      <th>Element_10</th>\n",
       "    </tr>\n",
       "  </thead>\n",
       "  <tbody>\n",
       "    <tr>\n",
       "      <th>count</th>\n",
       "      <td>3300.000000</td>\n",
       "      <td>3300.000000</td>\n",
       "      <td>3300.000000</td>\n",
       "      <td>3300.000000</td>\n",
       "      <td>3300.000000</td>\n",
       "      <td>3300.000000</td>\n",
       "      <td>3300.000000</td>\n",
       "      <td>3300.000000</td>\n",
       "      <td>3300.000000</td>\n",
       "      <td>3300.000000</td>\n",
       "      <td>3300.000000</td>\n",
       "      <td>3300.000000</td>\n",
       "    </tr>\n",
       "    <tr>\n",
       "      <th>mean</th>\n",
       "      <td>0.211515</td>\n",
       "      <td>0.176667</td>\n",
       "      <td>0.007805</td>\n",
       "      <td>1.287545</td>\n",
       "      <td>0.500722</td>\n",
       "      <td>-1.156174</td>\n",
       "      <td>1.026429</td>\n",
       "      <td>1.634011</td>\n",
       "      <td>-1.470741</td>\n",
       "      <td>-0.828433</td>\n",
       "      <td>0.270209</td>\n",
       "      <td>1.788619</td>\n",
       "    </tr>\n",
       "    <tr>\n",
       "      <th>std</th>\n",
       "      <td>0.408445</td>\n",
       "      <td>0.381444</td>\n",
       "      <td>0.037127</td>\n",
       "      <td>0.231196</td>\n",
       "      <td>0.094990</td>\n",
       "      <td>0.202441</td>\n",
       "      <td>0.182807</td>\n",
       "      <td>0.295085</td>\n",
       "      <td>0.287981</td>\n",
       "      <td>0.148755</td>\n",
       "      <td>0.059709</td>\n",
       "      <td>0.310666</td>\n",
       "    </tr>\n",
       "    <tr>\n",
       "      <th>min</th>\n",
       "      <td>0.000000</td>\n",
       "      <td>0.000000</td>\n",
       "      <td>-0.183101</td>\n",
       "      <td>0.000000</td>\n",
       "      <td>-0.019428</td>\n",
       "      <td>-1.943245</td>\n",
       "      <td>0.000000</td>\n",
       "      <td>0.000000</td>\n",
       "      <td>-2.224204</td>\n",
       "      <td>-1.434677</td>\n",
       "      <td>-0.086754</td>\n",
       "      <td>0.000000</td>\n",
       "    </tr>\n",
       "    <tr>\n",
       "      <th>25%</th>\n",
       "      <td>0.000000</td>\n",
       "      <td>0.000000</td>\n",
       "      <td>-0.008419</td>\n",
       "      <td>1.189064</td>\n",
       "      <td>0.453657</td>\n",
       "      <td>-1.274208</td>\n",
       "      <td>0.946488</td>\n",
       "      <td>1.506845</td>\n",
       "      <td>-1.644927</td>\n",
       "      <td>-0.915825</td>\n",
       "      <td>0.241619</td>\n",
       "      <td>1.666918</td>\n",
       "    </tr>\n",
       "    <tr>\n",
       "      <th>50%</th>\n",
       "      <td>0.000000</td>\n",
       "      <td>0.000000</td>\n",
       "      <td>0.009480</td>\n",
       "      <td>1.320966</td>\n",
       "      <td>0.508300</td>\n",
       "      <td>-1.179776</td>\n",
       "      <td>1.053197</td>\n",
       "      <td>1.671367</td>\n",
       "      <td>-1.504359</td>\n",
       "      <td>-0.846352</td>\n",
       "      <td>0.273076</td>\n",
       "      <td>1.832651</td>\n",
       "    </tr>\n",
       "    <tr>\n",
       "      <th>75%</th>\n",
       "      <td>0.000000</td>\n",
       "      <td>0.000000</td>\n",
       "      <td>0.026442</td>\n",
       "      <td>1.425333</td>\n",
       "      <td>0.556462</td>\n",
       "      <td>-1.073445</td>\n",
       "      <td>1.133562</td>\n",
       "      <td>1.804823</td>\n",
       "      <td>-1.336467</td>\n",
       "      <td>-0.763721</td>\n",
       "      <td>0.302108</td>\n",
       "      <td>1.969065</td>\n",
       "    </tr>\n",
       "    <tr>\n",
       "      <th>max</th>\n",
       "      <td>1.000000</td>\n",
       "      <td>1.000000</td>\n",
       "      <td>0.241667</td>\n",
       "      <td>2.089388</td>\n",
       "      <td>0.882829</td>\n",
       "      <td>0.000000</td>\n",
       "      <td>1.761109</td>\n",
       "      <td>2.921477</td>\n",
       "      <td>0.023593</td>\n",
       "      <td>0.011642</td>\n",
       "      <td>0.596138</td>\n",
       "      <td>2.979063</td>\n",
       "    </tr>\n",
       "  </tbody>\n",
       "</table>\n",
       "</div>"
      ],
      "text/plain": [
       "          hashtags     mentions    Element_1    Element_2    Element_3  \\\n",
       "count  3300.000000  3300.000000  3300.000000  3300.000000  3300.000000   \n",
       "mean      0.211515     0.176667     0.007805     1.287545     0.500722   \n",
       "std       0.408445     0.381444     0.037127     0.231196     0.094990   \n",
       "min       0.000000     0.000000    -0.183101     0.000000    -0.019428   \n",
       "25%       0.000000     0.000000    -0.008419     1.189064     0.453657   \n",
       "50%       0.000000     0.000000     0.009480     1.320966     0.508300   \n",
       "75%       0.000000     0.000000     0.026442     1.425333     0.556462   \n",
       "max       1.000000     1.000000     0.241667     2.089388     0.882829   \n",
       "\n",
       "         Element_4    Element_5    Element_6    Element_7    Element_8  \\\n",
       "count  3300.000000  3300.000000  3300.000000  3300.000000  3300.000000   \n",
       "mean     -1.156174     1.026429     1.634011    -1.470741    -0.828433   \n",
       "std       0.202441     0.182807     0.295085     0.287981     0.148755   \n",
       "min      -1.943245     0.000000     0.000000    -2.224204    -1.434677   \n",
       "25%      -1.274208     0.946488     1.506845    -1.644927    -0.915825   \n",
       "50%      -1.179776     1.053197     1.671367    -1.504359    -0.846352   \n",
       "75%      -1.073445     1.133562     1.804823    -1.336467    -0.763721   \n",
       "max       0.000000     1.761109     2.921477     0.023593     0.011642   \n",
       "\n",
       "         Element_9   Element_10  \n",
       "count  3300.000000  3300.000000  \n",
       "mean      0.270209     1.788619  \n",
       "std       0.059709     0.310666  \n",
       "min      -0.086754     0.000000  \n",
       "25%       0.241619     1.666918  \n",
       "50%       0.273076     1.832651  \n",
       "75%       0.302108     1.969065  \n",
       "max       0.596138     2.979063  "
      ]
     },
     "execution_count": 40,
     "metadata": {},
     "output_type": "execute_result"
    }
   ],
   "source": [
    "combi_X.describe()"
   ]
  },
  {
   "cell_type": "code",
   "execution_count": 46,
   "id": "5ccc6a4f",
   "metadata": {},
   "outputs": [
    {
     "name": "stdout",
     "output_type": "stream",
     "text": [
      "[0.86515152 0.86666667 0.88030303 0.87575758 0.85909091]\n",
      "[0.85606061 0.8530303  0.86515152 0.85151515 0.86212121]\n",
      "[0.85151515 0.84545455 0.86666667 0.86363636 0.84848485]\n"
     ]
    }
   ],
   "source": [
    "from sklearn.model_selection import cross_validate\n",
    "from sklearn.linear_model import LogisticRegression\n",
    "RF = RandomForestClassifier(n_estimators = 100, criterion = 'gini', random_state = 0)\n",
    "LR=LogisticRegression(random_state = 0,max_iter=1000)\n",
    "XGB=xgb.XGBClassifier()\n",
    "RFscores=cross_validate(RF,combi_X,combi_y,scoring=\"accuracy\")\n",
    "LRscores=cross_validate(LR,combi_X,combi_y,scoring=\"accuracy\")\n",
    "XGBscores=cross_validate(XGB,combi_X,combi_y,scoring=\"accuracy\")\n",
    "print(RFscores['test_score'])\n",
    "print(LRscores['test_score'])\n",
    "print(XGBscores['test_score'])"
   ]
  },
  {
   "cell_type": "code",
   "execution_count": 47,
   "id": "216e8249",
   "metadata": {},
   "outputs": [],
   "source": [
    "from sklearn.model_selection import train_test_split\n",
    "X_train, X_test, y_train, y_test = train_test_split(combi_X, combi_y, test_size = 0.20, random_state = 0,shuffle=True)"
   ]
  },
  {
   "cell_type": "markdown",
   "id": "7c7da45a",
   "metadata": {},
   "source": [
    "# Training Logistic Regression on this combined dataset #"
   ]
  },
  {
   "cell_type": "code",
   "execution_count": 48,
   "id": "d7b371e2",
   "metadata": {
    "scrolled": true
   },
   "outputs": [],
   "source": [
    "lr_combi=LogisticRegression(random_state = 0,max_iter=1000)\n",
    "lr_combi.fit(X_train,y_train)\n",
    "y_pred_lr_combi=lr.predict(X_test)"
   ]
  },
  {
   "cell_type": "markdown",
   "id": "09abc3a5",
   "metadata": {},
   "source": [
    "### Accuracy Metrics ###"
   ]
  },
  {
   "cell_type": "code",
   "execution_count": 57,
   "id": "c1a28d14",
   "metadata": {
    "scrolled": false
   },
   "outputs": [
    {
     "name": "stdout",
     "output_type": "stream",
     "text": [
      "[[558   1]\n",
      " [ 98   3]]\n"
     ]
    },
    {
     "data": {
      "text/plain": [
       "0.85"
      ]
     },
     "execution_count": 57,
     "metadata": {},
     "output_type": "execute_result"
    }
   ],
   "source": [
    "cmlrcombi = confusion_matrix(y_test, y_pred_lr_combi)\n",
    "print(cmlrcombi)\n",
    "accuracy_score(y_test, y_pred_lr_combi)"
   ]
  },
  {
   "cell_type": "markdown",
   "id": "d7c21d61",
   "metadata": {},
   "source": [
    "# Training XGB on this combined dataset #"
   ]
  },
  {
   "cell_type": "code",
   "execution_count": 51,
   "id": "7c07288a",
   "metadata": {},
   "outputs": [
    {
     "name": "stdout",
     "output_type": "stream",
     "text": [
      "[0 0 0 0 0 0 0 0 0 1 0 0 0 0 0 0 0 0 0 0 0 0 0 0 0 1 1 0 0 0 0 0 0 0 0 0 0\n",
      " 0 0 0 0 0 0 0 0 0 0 0 0 0 0 0 0 0 0 0 0 0 0 0 0 1 0 0 0 0 0 0 0 0 0 0 0 0\n",
      " 0 0 0 0 0 0 0 0 0 0 0 0 0 0 0 0 0 0 0 0 0 0 1 0 0 0 0 0 0 0 0 0 0 0 0 0 0\n",
      " 0 0 0 0 0 0 0 0 0 0 1 0 0 0 0 0 0 0 0 0 0 0 0 0 0 0 0 0 0 0 0 0 0 0 0 0 0\n",
      " 0 0 0 0 0 0 0 0 0 0 0 0 1 0 0 0 0 0 0 0 0 1 0 0 0 0 0 0 0 0 0 0 0 0 0 0 0\n",
      " 0 0 0 0 0 0 0 0 0 0 0 0 0 0 0 0 0 0 0 0 0 0 0 0 0 0 0 0 0 0 0 0 0 0 0 0 0\n",
      " 0 0 0 0 1 0 0 0 0 0 0 0 0 0 1 0 0 0 0 0 0 0 0 0 0 0 0 0 0 0 0 0 0 0 0 0 0\n",
      " 0 0 0 0 0 0 0 0 0 0 0 0 0 0 0 0 0 0 0 0 0 0 0 0 0 0 0 1 0 1 0 0 1 0 0 0 0\n",
      " 0 0 0 1 0 0 0 0 0 0 0 0 0 0 0 0 0 0 0 0 1 0 0 0 1 0 0 0 0 0 0 0 0 0 0 0 0\n",
      " 0 0 0 0 0 0 0 0 0 0 0 0 0 0 0 0 1 0 0 0 0 0 0 0 0 0 0 0 0 0 0 0 0 0 0 0 0\n",
      " 0 0 0 0 0 0 1 0 0 0 0 1 0 0 0 0 0 0 0 0 0 0 0 0 0 0 0 0 0 0 0 0 0 0 0 0 0\n",
      " 0 0 0 0 0 0 0 0 0 0 0 0 0 0 0 0 0 0 0 0 0 0 0 1 0 0 0 0 0 0 0 1 1 0 0 0 0\n",
      " 0 0 0 0 0 1 0 0 0 0 0 0 0 0 0 0 0 0 0 0 0 0 0 0 0 1 0 0 0 0 0 0 0 0 0 0 0\n",
      " 0 0 0 0 0 0 0 0 0 0 0 0 0 0 0 0 0 1 0 0 0 1 0 0 0 0 0 0 0 0 0 0 0 0 0 0 0\n",
      " 0 0 0 0 0 0 0 0 0 0 0 0 0 1 0 0 1 0 1 1 0 0 0 0 0 0 0 0 0 0 0 0 0 0 0 0 0\n",
      " 0 0 0 0 0 0 0 0 0 0 0 0 0 0 0 0 0 0 0 0 0 0 1 0 0 0 0 1 0 0 0 0 0 0 0 0 0\n",
      " 0 0 0 0 0 0 0 0 0 0 0 0 0 0 0 0 0 0 0 0 0 0 0 0 0 0 0 0 0 0 0 1 0 0 0 0 0\n",
      " 0 1 0 0 0 0 0 0 0 0 0 0 0 0 0 1 1 0 0 0 0 0 0 1 0 0 0 0 0 0 0]\n"
     ]
    }
   ],
   "source": [
    "XGB_2=xgb.XGBClassifier(random_state=0)\n",
    "XGB_2.fit(X_train,y_train)\n",
    "y_pred_XGB_2=XGB_2.predict(X_test)\n",
    "print(y_pred_XGB_2)"
   ]
  },
  {
   "cell_type": "markdown",
   "id": "88769e6c",
   "metadata": {},
   "source": [
    "## Accuracy Metrics ##"
   ]
  },
  {
   "cell_type": "code",
   "execution_count": 52,
   "id": "4f59a8bc",
   "metadata": {},
   "outputs": [
    {
     "name": "stdout",
     "output_type": "stream",
     "text": [
      "[[535  24]\n",
      " [ 88  13]]\n"
     ]
    },
    {
     "data": {
      "text/plain": [
       "0.8303030303030303"
      ]
     },
     "execution_count": 52,
     "metadata": {},
     "output_type": "execute_result"
    }
   ],
   "source": [
    "cmXGB_2 = confusion_matrix(y_test, y_pred_XGB_2)\n",
    "print(cmXGB_2)\n",
    "accuracy_score(y_test, y_pred_XGB_2)"
   ]
  },
  {
   "cell_type": "markdown",
   "id": "91f5a852",
   "metadata": {},
   "source": [
    "# Insights #"
   ]
  },
  {
   "cell_type": "markdown",
   "id": "d550b100",
   "metadata": {},
   "source": [
    "1.Higher scores on cross valdiation and training results on combined dataset indicates test dataset might be containing more anomalies\n",
    "<br>\n",
    "2.Other enseamble learning methods can be better tuned using grid-search CV\n",
    "<br>\n",
    "3.Word2vec uses its vocabulary capabilities to relate data to its contextual meaning by projecting it into a vector space using an ANN.I feel that more data is added this model would perform better as the vocabulary is expanded. However, I could currently achieve a better accuracy on the dataset by using TF-IDF adn have demonstrated the same below."
   ]
  },
  {
   "cell_type": "markdown",
   "id": "90e2cd47",
   "metadata": {},
   "source": [
    "# Using TF-IDF to analyze the combined dataset #"
   ]
  },
  {
   "cell_type": "markdown",
   "id": "28da7d97",
   "metadata": {},
   "source": [
    "## Train dataset BOW generation ##"
   ]
  },
  {
   "cell_type": "code",
   "execution_count": 218,
   "id": "7f7a9b03",
   "metadata": {},
   "outputs": [],
   "source": [
    "import nltk\n",
    "#nltk.download(\"stopwords\")\n",
    "from nltk.corpus import stopwords\n",
    "from nltk.stem.porter import PorterStemmer\n",
    "corpus=[]\n",
    "for i in range(0,3000):\n",
    "    tweet=re.sub('[^a-zA-Z]',' ',str(dataset['tweet_text'][i]))\n",
    "    tweet=tweet.lower()\n",
    "    tweet=tweet.split()\n",
    "    ps=PorterStemmer()\n",
    "    all_stopwords = stopwords.words('english')\n",
    "    all_stopwords.remove('not')\n",
    "    tweet = [ps.stem(word) for word in tweet if not word in set(all_stopwords)]\n",
    "    tweet=' '.join(tweet)\n",
    "    corpus.append(tweet)"
   ]
  },
  {
   "cell_type": "code",
   "execution_count": 219,
   "id": "95e11b9b",
   "metadata": {},
   "outputs": [
    {
     "name": "stdout",
     "output_type": "stream",
     "text": [
      "[[0. 0. 0. ... 0. 0. 0.]\n",
      " [0. 0. 0. ... 0. 0. 0.]\n",
      " [0. 0. 0. ... 0. 0. 0.]\n",
      " ...\n",
      " [0. 0. 0. ... 0. 0. 0.]\n",
      " [0. 0. 0. ... 0. 0. 0.]\n",
      " [0. 0. 0. ... 0. 0. 0.]]\n"
     ]
    }
   ],
   "source": [
    "from sklearn.feature_extraction.text import TfidfVectorizer\n",
    "tfidf=TfidfVectorizer(max_features=1000)\n",
    "new_text=tfidf.fit_transform(corpus).toarray()\n",
    "print(new_text)"
   ]
  },
  {
   "cell_type": "code",
   "execution_count": 220,
   "id": "34632e75",
   "metadata": {},
   "outputs": [],
   "source": [
    "# processing user description tags for insight"
   ]
  },
  {
   "cell_type": "code",
   "execution_count": 221,
   "id": "0462fdfd",
   "metadata": {},
   "outputs": [],
   "source": [
    "corpus_desc=[]\n",
    "for i in range(0,3000):\n",
    "    desc=re.sub('[^a-zA-Z]',' ',str(dataset['user_description'][i]))\n",
    "    desc=desc.lower()\n",
    "    desc=desc.split()\n",
    "    ps=PorterStemmer()\n",
    "    all_stopwords = stopwords.words('english')\n",
    "    all_stopwords.remove('not')\n",
    "    desc = [ps.stem(word) for word in desc if not word in set(all_stopwords)]\n",
    "    desc=' '.join(desc)\n",
    "    corpus_desc.append(desc)"
   ]
  },
  {
   "cell_type": "code",
   "execution_count": 222,
   "id": "294fefb6",
   "metadata": {},
   "outputs": [
    {
     "name": "stdout",
     "output_type": "stream",
     "text": [
      "[[0. 0. 0. ... 0. 0. 0.]\n",
      " [0. 0. 0. ... 0. 0. 0.]\n",
      " [0. 0. 0. ... 0. 0. 0.]\n",
      " ...\n",
      " [0. 0. 0. ... 0. 0. 0.]\n",
      " [0. 0. 0. ... 0. 0. 0.]\n",
      " [0. 0. 0. ... 0. 0. 0.]]\n"
     ]
    }
   ],
   "source": [
    "tfidf_desc=TfidfVectorizer(max_features=1000)\n",
    "new_text_desc=tfidf_desc.fit_transform(corpus_desc).toarray()\n",
    "print(new_text_desc)"
   ]
  },
  {
   "cell_type": "markdown",
   "id": "0faa771c",
   "metadata": {},
   "source": [
    "## Test dataset BOW generation ##"
   ]
  },
  {
   "cell_type": "code",
   "execution_count": 223,
   "id": "5fca6e5f",
   "metadata": {},
   "outputs": [],
   "source": [
    "corpus2=[]\n",
    "for i in range(0,300):\n",
    "    tweet=re.sub('[^a-zA-Z]',' ',str(test_dataset['tweet_text'][i]))\n",
    "    tweet=tweet.lower()\n",
    "    tweet=tweet.split()\n",
    "    ps=PorterStemmer()\n",
    "    all_stopwords = stopwords.words('english')\n",
    "    all_stopwords.remove('not')\n",
    "    tweet = [ps.stem(word) for word in tweet if not word in set(all_stopwords)]\n",
    "    tweet=' '.join(tweet)\n",
    "    corpus2.append(tweet)\n"
   ]
  },
  {
   "cell_type": "code",
   "execution_count": 224,
   "id": "2e09f412",
   "metadata": {},
   "outputs": [
    {
     "name": "stdout",
     "output_type": "stream",
     "text": [
      "[[0. 0. 0. ... 0. 0. 0.]\n",
      " [0. 0. 0. ... 0. 0. 0.]\n",
      " [0. 0. 0. ... 0. 0. 0.]\n",
      " ...\n",
      " [0. 0. 0. ... 0. 0. 0.]\n",
      " [0. 0. 0. ... 0. 0. 0.]\n",
      " [0. 0. 0. ... 0. 0. 0.]]\n"
     ]
    }
   ],
   "source": [
    "new_text_test=tfidf.transform(corpus2).toarray()\n",
    "print(new_text_test)"
   ]
  },
  {
   "cell_type": "code",
   "execution_count": 225,
   "id": "fd55a4e5",
   "metadata": {},
   "outputs": [],
   "source": [
    "corpus_desc_test=[]\n",
    "for i in range(0,300):\n",
    "    desc=re.sub('[^a-zA-Z]',' ',str(test_dataset['user_description'][i]))\n",
    "    desc=desc.lower()\n",
    "    desc=desc.split()\n",
    "    ps=PorterStemmer()\n",
    "    all_stopwords = stopwords.words('english')\n",
    "    all_stopwords.remove('not')\n",
    "    desc = [ps.stem(word) for word in desc if not word in set(all_stopwords)]\n",
    "    desc=' '.join(desc)\n",
    "    corpus_desc_test.append(desc)"
   ]
  },
  {
   "cell_type": "code",
   "execution_count": 226,
   "id": "b1ce73c5",
   "metadata": {},
   "outputs": [
    {
     "name": "stdout",
     "output_type": "stream",
     "text": [
      "[[0.         0.         0.         ... 0.         0.         0.        ]\n",
      " [0.         0.         0.         ... 0.         0.         0.        ]\n",
      " [0.         0.         0.         ... 0.         0.         0.        ]\n",
      " ...\n",
      " [0.         0.         0.         ... 0.         0.         0.        ]\n",
      " [0.         0.20891457 0.         ... 0.         0.         0.        ]\n",
      " [0.         0.         0.         ... 0.         0.         0.        ]]\n"
     ]
    }
   ],
   "source": [
    "new_text_desc_test=tfidf_desc.transform(corpus_desc_test).toarray()\n",
    "print(new_text_desc_test)"
   ]
  },
  {
   "cell_type": "code",
   "execution_count": 227,
   "id": "0c170382",
   "metadata": {},
   "outputs": [],
   "source": [
    "tfidf_X=np.append(new_text,new_text_desc,axis=1)\n",
    "tfidf_y=dataset['label']\n",
    "tfidf_test_X=np.append(new_text_test,new_text_desc_test,axis=1)\n",
    "tfidf_test_y=test_dataset['label']\n",
    "tfidf_combi_X=np.append(tfidf_X,tfidf_test_X,axis=0)\n",
    "tfidf_combi_y=np.append(tfidf_y,tfidf_test_y,axis=0)"
   ]
  },
  {
   "cell_type": "markdown",
   "id": "62137af0",
   "metadata": {},
   "source": [
    "## Logistic Regression ##"
   ]
  },
  {
   "cell_type": "code",
   "execution_count": 228,
   "id": "1c675c45",
   "metadata": {},
   "outputs": [],
   "source": [
    "from sklearn.model_selection import train_test_split\n",
    "X_train_2, X_test_2, y_train_2, y_test_2 = train_test_split(tfidf_combi_X, tfidf_combi_y, test_size = 0.20, random_state = 0,shuffle=True)"
   ]
  },
  {
   "cell_type": "code",
   "execution_count": 229,
   "id": "d1cd0a97",
   "metadata": {
    "scrolled": true
   },
   "outputs": [],
   "source": [
    "lr_tfidf=LogisticRegression(random_state = 0,max_iter=1000)\n",
    "lr_tfidf.fit(X_train_2,y_train_2)\n",
    "y_lr_tfidf_pred=lr_tfidf.predict(X_test_2)"
   ]
  },
  {
   "cell_type": "code",
   "execution_count": 230,
   "id": "90ffa1de",
   "metadata": {},
   "outputs": [
    {
     "data": {
      "text/plain": [
       "<seaborn.axisgrid.FacetGrid at 0x13c4c24b5b0>"
      ]
     },
     "execution_count": 230,
     "metadata": {},
     "output_type": "execute_result"
    },
    {
     "data": {
      "image/png": "[encoded data removed]",
      "text/plain": [
       "<Figure size 500x500 with 1 Axes>"
      ]
     },
     "metadata": {},
     "output_type": "display_data"
    }
   ],
   "source": [
    "predicted_df=pd.DataFrame(y_lr_tfidf_pred)\n",
    "sns.catplot(data=predicted_df,x=0,kind=\"count\")"
   ]
  },
  {
   "cell_type": "markdown",
   "id": "3f1d7d9f",
   "metadata": {},
   "source": [
    "### Accuracy Metrics ###"
   ]
  },
  {
   "cell_type": "code",
   "execution_count": 231,
   "id": "9c0ed464",
   "metadata": {
    "scrolled": false
   },
   "outputs": [
    {
     "name": "stdout",
     "output_type": "stream",
     "text": [
      "[[550   9]\n",
      " [ 82  19]]\n"
     ]
    },
    {
     "data": {
      "text/plain": [
       "0.8621212121212121"
      ]
     },
     "execution_count": 231,
     "metadata": {},
     "output_type": "execute_result"
    }
   ],
   "source": [
    "cmlr_tfidf = confusion_matrix(y_test_2, y_lr_tfidf_pred)\n",
    "print(cmlr_tfidf)\n",
    "accuracy_score(y_test_2, y_lr_tfidf_pred)"
   ]
  },
  {
   "cell_type": "markdown",
   "id": "a197af94",
   "metadata": {},
   "source": [
    "# Future Improvement Possibilities #"
   ]
  },
  {
   "cell_type": "markdown",
   "id": "9c5cd8c1",
   "metadata": {},
   "source": [
    "1.We can use transformer model to explore more deep learning on the dataset.\n",
    "<br>\n",
    "2.Better Word2vec models can be generated as it uses N.N"
   ]
  }
 ],
 "metadata": {
  "kernelspec": {
   "display_name": "Python 3.9.12 ('venv': venv)",
   "language": "python",
   "name": "python3"
  },
  "language_info": {
   "codemirror_mode": {
    "name": "ipython",
    "version": 3
   },
   "file_extension": ".py",
   "mimetype": "text/x-python",
   "name": "python",
   "nbconvert_exporter": "python",
   "pygments_lexer": "ipython3",
   "version": "3.9.12"
  },
  "vscode": {
   "interpreter": {
    "hash": "7392f80b04a39ec045c6587659e966b1dfd8d5a879027174027eb71bc7cff6f1"
   }
  }
 },
 "nbformat": 4,
 "nbformat_minor": 5
}
